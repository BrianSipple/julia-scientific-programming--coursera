{
 "cells": [
  {
   "cell_type": "code",
   "execution_count": 11,
   "metadata": {
    "collapsed": false
   },
   "outputs": [
    {
     "data": {
      "text/html": [
       "<link href='http://fonts.googleapis.com/css?family=Alegreya+Sans:100,300,400,500,700,800,900,100italic,300italic,400italic,500italic,700italic,800italic,900italic' rel='stylesheet' type='text/css'>\n",
       "<link href='http://fonts.googleapis.com/css?family=Arvo:400,700,400italic' rel='stylesheet' type='text/css'>\n",
       "<link href='http://fonts.googleapis.com/css?family=PT+Mono' rel='stylesheet' type='text/css'>\n",
       "<link href='http://fonts.googleapis.com/css?family=Shadows+Into+Light' rel='stylesheet' type='text/css'>\n",
       "<link href='http://fonts.googleapis.com/css?family=Philosopher:400,700,400italic,700italic' rel='stylesheet' type='text/css'>\n",
       "\n",
       "<style>\n",
       "\n",
       "@font-face {\n",
       "    font-family: \"Computer Modern\";\n",
       "    src: url('http://mirrors.ctan.org/fonts/cm-unicode/fonts/otf/cmunss.otf');\n",
       "}\n",
       "\n",
       "#notebook_panel { /* main background */\n",
       "    background: #ddd;\n",
       "    color: #000000;\n",
       "}\n",
       "\n",
       "\n",
       "\n",
       "/* Formatting for header cells */\n",
       ".text_cell_render h1 {\n",
       "    font-family: 'Philosopher', sans-serif;\n",
       "    font-weight: 400;\n",
       "    font-size: 2.2em;\n",
       "    line-height: 100%;\n",
       "    color: rgb(0, 80, 120);\n",
       "    margin-bottom: 0.1em;\n",
       "    margin-top: 0.1em;\n",
       "    display: block;\n",
       "}\t\n",
       ".text_cell_render h2 {\n",
       "    font-family: 'Philosopher', serif;\n",
       "    font-weight: 400;\n",
       "    font-size: 1.9em;\n",
       "    line-height: 100%;\n",
       "    color: rgb(200,100,0);\n",
       "    margin-bottom: 0.1em;\n",
       "    margin-top: 0.1em;\n",
       "    display: block;\n",
       "}\t\n",
       "\n",
       ".text_cell_render h3 {\n",
       "    font-family: 'Philosopher', serif;\n",
       "    margin-top:12px;\n",
       "    margin-bottom: 3px;\n",
       "    font-style: italic;\n",
       "    color: rgb(94,127,192);\n",
       "}\n",
       "\n",
       ".text_cell_render h4 {\n",
       "    font-family: 'Philosopher', serif;\n",
       "}\n",
       "\n",
       ".text_cell_render h5 {\n",
       "    font-family: 'Alegreya Sans', sans-serif;\n",
       "    font-weight: 300;\n",
       "    font-size: 16pt;\n",
       "    color: grey;\n",
       "    font-style: italic;\n",
       "    margin-bottom: .1em;\n",
       "    margin-top: 0.1em;\n",
       "    display: block;\n",
       "}\n",
       "\n",
       ".text_cell_render h6 {\n",
       "    font-family: 'PT Mono', sans-serif;\n",
       "    font-weight: 300;\n",
       "    font-size: 10pt;\n",
       "    color: grey;\n",
       "    margin-bottom: 1px;\n",
       "    margin-top: 1px;\n",
       "}\n",
       "\n",
       ".CodeMirror{\n",
       "        font-family: \"PT Mono\";\n",
       "        font-size: 100%;\n",
       "}\n",
       "\n",
       "</style>\n",
       "\n"
      ],
      "text/plain": [
       "HTML{ASCIIString}(\"<link href='http://fonts.googleapis.com/css?family=Alegreya+Sans:100,300,400,500,700,800,900,100italic,300italic,400italic,500italic,700italic,800italic,900italic' rel='stylesheet' type='text/css'>\\n<link href='http://fonts.googleapis.com/css?family=Arvo:400,700,400italic' rel='stylesheet' type='text/css'>\\n<link href='http://fonts.googleapis.com/css?family=PT+Mono' rel='stylesheet' type='text/css'>\\n<link href='http://fonts.googleapis.com/css?family=Shadows+Into+Light' rel='stylesheet' type='text/css'>\\n<link href='http://fonts.googleapis.com/css?family=Philosopher:400,700,400italic,700italic' rel='stylesheet' type='text/css'>\\n\\n<style>\\n\\n@font-face {\\n    font-family: \\\"Computer Modern\\\";\\n    src: url('http://mirrors.ctan.org/fonts/cm-unicode/fonts/otf/cmunss.otf');\\n}\\n\\n#notebook_panel { /* main background */\\n    background: #ddd;\\n    color: #000000;\\n}\\n\\n\\n\\n/* Formatting for header cells */\\n.text_cell_render h1 {\\n    font-family: 'Philosopher', sans-serif;\\n    font-weight: 400;\\n    font-size: 2.2em;\\n    line-height: 100%;\\n    color: rgb(0, 80, 120);\\n    margin-bottom: 0.1em;\\n    margin-top: 0.1em;\\n    display: block;\\n}\\t\\n.text_cell_render h2 {\\n    font-family: 'Philosopher', serif;\\n    font-weight: 400;\\n    font-size: 1.9em;\\n    line-height: 100%;\\n    color: rgb(200,100,0);\\n    margin-bottom: 0.1em;\\n    margin-top: 0.1em;\\n    display: block;\\n}\\t\\n\\n.text_cell_render h3 {\\n    font-family: 'Philosopher', serif;\\n    margin-top:12px;\\n    margin-bottom: 3px;\\n    font-style: italic;\\n    color: rgb(94,127,192);\\n}\\n\\n.text_cell_render h4 {\\n    font-family: 'Philosopher', serif;\\n}\\n\\n.text_cell_render h5 {\\n    font-family: 'Alegreya Sans', sans-serif;\\n    font-weight: 300;\\n    font-size: 16pt;\\n    color: grey;\\n    font-style: italic;\\n    margin-bottom: .1em;\\n    margin-top: 0.1em;\\n    display: block;\\n}\\n\\n.text_cell_render h6 {\\n    font-family: 'PT Mono', sans-serif;\\n    font-weight: 300;\\n    font-size: 10pt;\\n    color: grey;\\n    margin-bottom: 1px;\\n    margin-top: 1px;\\n}\\n\\n.CodeMirror{\\n        font-family: \\\"PT Mono\\\";\\n        font-size: 100%;\\n}\\n\\n</style>\\n\\n\")"
      ]
     },
     "execution_count": 11,
     "metadata": {},
     "output_type": "execute_result"
    }
   ],
   "source": [
    "# Setting up a custom stylesheet in IJulia\n",
    "file = open(\"style.css\") # A .css file in the same folder as this notebook file\n",
    "styl = readall(file) # Read the file\n",
    "HTML(\"$styl\") # Output as HTML"
   ]
  },
  {
   "cell_type": "markdown",
   "metadata": {},
   "source": [
    "# Functions in Julia I"
   ]
  },
  {
   "cell_type": "markdown",
   "metadata": {
    "collapsed": true
   },
   "source": [
    "<h2>In this lecture</h2>\n",
    "\n",
    "- [Outcome](#Outcome)\n",
    "- [Functions in Julia](#Functions-in-Julia)\n",
    "- [Command line help](#Command-line-help)\n",
    "- [Built-in mathematical functions](#Built-in-mathematical-functions)\n",
    "- [Multiple dispatch](#Multiple-dispatch)\n"
   ]
  },
  {
   "cell_type": "markdown",
   "metadata": {},
   "source": [
    "<hr>\n",
    "<h2>Outcome</h2>\n",
    "\n",
    "After this lecture, you will be able to: \n",
    "\n",
    "- Say how a Julia function works\n",
    "- Describe the difference between built-in and user-defined functions in Julia\n",
    "- List and use some basic mathematical functions\n",
    "- Describe Julia's multiple dispatch using * as the example"
   ]
  },
  {
   "cell_type": "markdown",
   "metadata": {},
   "source": [
    "[Back to the top](#In-this-lecture)"
   ]
  },
  {
   "cell_type": "markdown",
   "metadata": {},
   "source": [
    "[Back to the top](#In-this-lecture)"
   ]
  },
  {
   "cell_type": "markdown",
   "metadata": {},
   "source": [
    "<h2>Functions in Julia</h2>\n",
    "\n",
    "Recall a recent example using the funtion println():"
   ]
  },
  {
   "cell_type": "code",
   "execution_count": 1,
   "metadata": {
    "collapsed": false
   },
   "outputs": [
    {
     "name": "stdout",
     "output_type": "stream",
     "text": [
      "Hello, world!!\n"
     ]
    }
   ],
   "source": [
    "greeting = \"Hello, world!!\"\n",
    "println(greeting) "
   ]
  },
  {
   "cell_type": "markdown",
   "metadata": {},
   "source": [
    "This is a good example of the basics of how a function works: it receives some input (in this case, the value of a variable) and makes something happen (in this case, showing a string on the screen).\n",
    "\n",
    "Many a function generates a value. In fact, possibly the most common use of functions is to create values to be assigned to variables:"
   ]
  },
  {
   "cell_type": "code",
   "execution_count": 2,
   "metadata": {
    "collapsed": false
   },
   "outputs": [
    {
     "data": {
      "text/plain": [
       "(0.9800665778412416,2.302585092994046,1.22)"
      ]
     },
     "execution_count": 2,
     "metadata": {},
     "output_type": "execute_result"
    }
   ],
   "source": [
    "a, b, c = cos(0.2), log(10), abs(-1.22)  # multiple assignment to three separate variables"
   ]
  },
  {
   "cell_type": "code",
   "execution_count": 3,
   "metadata": {
    "collapsed": false
   },
   "outputs": [
    {
     "data": {
      "text/plain": [
       "0.9800665778412416"
      ]
     },
     "execution_count": 3,
     "metadata": {},
     "output_type": "execute_result"
    }
   ],
   "source": [
    "a"
   ]
  },
  {
   "cell_type": "markdown",
   "metadata": {},
   "source": [
    "Julia is a functional language, which means that in a sense the basic unit for organising code in Julia is the function. For instance, typeof() provides information which in other types of languages is obtained via other means. If you read the Julia code (it is publicly available, see www.julialang.org), you will see that virtually everything there is done via functions.\n",
    "\n",
    "This means of course that when you write code, you should also as far as possible organise your code in funtions. We address user-defined functions in Lecture 9 (the one after this one)."
   ]
  },
  {
   "cell_type": "markdown",
   "metadata": {},
   "source": [
    "[Back to the top](#In-this-lecture)"
   ]
  },
  {
   "cell_type": "markdown",
   "metadata": {},
   "source": [
    "<h2>Command line help</h2>\n",
    "\n",
    "To get help in an IJulia, type \"?\" followed by a topic. For functions, you'll get the syntax (there may be several versions) and in other cases some brief guidance. For example, \n",
    "\"? cos\" gives very simple syntax, \"? help\" sends you to the Julia documentation (which beginners might find unsuitable for their queries) and \"?hist\" gives two variations of the basic command plus several more options to explore.\n"
   ]
  },
  {
   "cell_type": "code",
   "execution_count": 4,
   "metadata": {
    "collapsed": false
   },
   "outputs": [
    {
     "name": "stdout",
     "output_type": "stream",
     "text": [
      "search: cos cosh cosd cosc cospi acos acosh acosd const consume cross close\n",
      "\n"
     ]
    },
    {
     "data": {
      "text/latex": [
       "\\begin{verbatim}\n",
       "cos(x)\n",
       "\\end{verbatim}\n",
       "Compute cosine of \\texttt{x}, where \\texttt{x} is in radians\n"
      ],
      "text/markdown": [
       "```\n",
       "cos(x)\n",
       "```\n",
       "\n",
       "Compute cosine of `x`, where `x` is in radians\n"
      ],
      "text/plain": [
       "```\n",
       "cos(x)\n",
       "```\n",
       "\n",
       "Compute cosine of `x`, where `x` is in radians\n"
      ]
     },
     "execution_count": 4,
     "metadata": {},
     "output_type": "execute_result"
    }
   ],
   "source": [
    "? cos"
   ]
  },
  {
   "cell_type": "code",
   "execution_count": 5,
   "metadata": {
    "collapsed": false
   },
   "outputs": [
    {
     "name": "stdout",
     "output_type": "stream",
     "text": [
      "search: schedule @schedule hankelh2 hankelh1 hankelh2x hankelh1x Channel\n",
      "\n"
     ]
    },
    {
     "data": {
      "text/latex": [
       "\\textbf{Welcome to Julia 0.4.5.} The full manual is available at\n",
       "\\begin{verbatim}\n",
       "http://docs.julialang.org/\n",
       "\\end{verbatim}\n",
       "as well many great tutorials and learning resources:\n",
       "\\begin{verbatim}\n",
       "http://julialang.org/learning/\n",
       "\\end{verbatim}\n",
       "For help on a specific function or macro, type \\texttt{?} followed by its name, e.g. \\texttt{?fft}, \\texttt{?@time} or \\texttt{?html}, and press enter.\n"
      ],
      "text/markdown": [
       "**Welcome to Julia 0.4.5.** The full manual is available at\n",
       "\n",
       "```\n",
       "http://docs.julialang.org/\n",
       "```\n",
       "\n",
       "as well many great tutorials and learning resources:\n",
       "\n",
       "```\n",
       "http://julialang.org/learning/\n",
       "```\n",
       "\n",
       "For help on a specific function or macro, type `?` followed by its name, e.g. `?fft`, `?@time` or `?html`, and press enter.\n"
      ],
      "text/plain": [
       "**Welcome to Julia 0.4.5.** The full manual is available at\n",
       "\n",
       "```\n",
       "http://docs.julialang.org/\n",
       "```\n",
       "\n",
       "as well many great tutorials and learning resources:\n",
       "\n",
       "```\n",
       "http://julialang.org/learning/\n",
       "```\n",
       "\n",
       "For help on a specific function or macro, type `?` followed by its name, e.g. `?fft`, `?@time` or `?html`, and press enter.\n"
      ]
     },
     "execution_count": 5,
     "metadata": {},
     "output_type": "execute_result"
    }
   ],
   "source": [
    "?help   # space or not after after \"?\" makes no difference (but hopping to a new line does!)"
   ]
  },
  {
   "cell_type": "code",
   "execution_count": 6,
   "metadata": {
    "collapsed": false
   },
   "outputs": [
    {
     "name": "stdout",
     "output_type": "stream",
     "text": [
      "search: hist hist! hist2d hist2d! histrange clear_history method_exists\n",
      "\n"
     ]
    },
    {
     "data": {
      "text/latex": [
       "\\begin{verbatim}\n",
       "hist(v, e) -> e, counts\n",
       "\\end{verbatim}\n",
       "Compute the histogram of \\texttt{v} using a vector/range \\texttt{e} as the edges for the bins. The result will be a vector of length \\texttt{length(e) - 1}, such that the element at location \\texttt{i} satisfies \\texttt{sum(e[i] .< v .<= e[i+1])}. Note: Julia does not ignore \\texttt{NaN} values in the computation.\n",
       "\\begin{verbatim}\n",
       "hist(v[, n]) -> e, counts\n",
       "\\end{verbatim}\n",
       "Compute the histogram of \\texttt{v}, optionally using approximately \\texttt{n} bins. The return values are a range \\texttt{e}, which correspond to the edges of the bins, and \\texttt{counts} containing the number of elements of \\texttt{v} in each bin. Note: Julia does not ignore \\texttt{NaN} values in the computation.\n"
      ],
      "text/markdown": [
       "```\n",
       "hist(v, e) -> e, counts\n",
       "```\n",
       "\n",
       "Compute the histogram of `v` using a vector/range `e` as the edges for the bins. The result will be a vector of length `length(e) - 1`, such that the element at location `i` satisfies `sum(e[i] .< v .<= e[i+1])`. Note: Julia does not ignore `NaN` values in the computation.\n",
       "\n",
       "```\n",
       "hist(v[, n]) -> e, counts\n",
       "```\n",
       "\n",
       "Compute the histogram of `v`, optionally using approximately `n` bins. The return values are a range `e`, which correspond to the edges of the bins, and `counts` containing the number of elements of `v` in each bin. Note: Julia does not ignore `NaN` values in the computation.\n"
      ],
      "text/plain": [
       "```\n",
       "hist(v, e) -> e, counts\n",
       "```\n",
       "\n",
       "Compute the histogram of `v` using a vector/range `e` as the edges for the bins. The result will be a vector of length `length(e) - 1`, such that the element at location `i` satisfies `sum(e[i] .< v .<= e[i+1])`. Note: Julia does not ignore `NaN` values in the computation.\n",
       "\n",
       "```\n",
       "hist(v[, n]) -> e, counts\n",
       "```\n",
       "\n",
       "Compute the histogram of `v`, optionally using approximately `n` bins. The return values are a range `e`, which correspond to the edges of the bins, and `counts` containing the number of elements of `v` in each bin. Note: Julia does not ignore `NaN` values in the computation.\n"
      ]
     },
     "execution_count": 6,
     "metadata": {},
     "output_type": "execute_result"
    }
   ],
   "source": [
    "? hist"
   ]
  },
  {
   "cell_type": "markdown",
   "metadata": {},
   "source": [
    "**This rapid, concise help is a wonderful resource to have on hand. USE IT OFTEN,    especially for spelling and syntax.**"
   ]
  },
  {
   "cell_type": "markdown",
   "metadata": {},
   "source": [
    "[Back to the top](#In-this-lecture)"
   ]
  },
  {
   "cell_type": "markdown",
   "metadata": {},
   "source": [
    "<h2>Built-in mathematical functions</h2>\n",
    "\n",
    "Julia has many built-in functions, and for scientific and technical computing the most important of these are mathematical. The following lists a very small part of what is available:\n",
    "\n",
    "exp()\n",
    "\n",
    "log()    ...  NB! this is the *natural* logarithm\n",
    "\n",
    "log10()  ...    *this* is the logarithm to base 10\n",
    "\n",
    "\n",
    "cos()    ... argument must be in radians\n",
    "\n",
    "sin()\n",
    "\n",
    "tan()\n",
    "\n",
    "acos()   ... the result is a value in radians\n",
    "\n",
    "asin()\n",
    "\n",
    "atan()   ...  NB! this only returns some angles (between -π/2 and π/2, to be exact)\n",
    "\n",
    "atan2()  ...  use this to get angles from quadrants two and three; it requires two inputs\n",
    "\n",
    "\n",
    "floor()\n",
    "\n",
    "ceil()\n",
    "\n",
    "rem()\n",
    "\n",
    "round()  ... use round(Int, x) to convert any x of abstract type Real to an integer type (usually Int64)  \n",
    "\n",
    "**DO EXPLORE THESE USING THE \"?\" QUERY METHOD!**"
   ]
  },
  {
   "cell_type": "markdown",
   "metadata": {},
   "source": [
    "And if you enter the first one or more letters of a function, and press Tab, you'll see a list of possible completions. This includes all the available function names that start with that letter or letter. This is a good way to search for function names. For example:"
   ]
  },
  {
   "cell_type": "code",
   "execution_count": null,
   "metadata": {
    "collapsed": true
   },
   "outputs": [],
   "source": [
    "d          # Tab to show completions, use up and down arrows to scroll the list in JuliaBox"
   ]
  },
  {
   "cell_type": "markdown",
   "metadata": {},
   "source": [
    "[Back to the top](#In-this-lecture)"
   ]
  },
  {
   "cell_type": "markdown",
   "metadata": {},
   "source": [
    "<h2>Multiple dispatch</h2>\n",
    "\n",
    "This is related to the fact that many functions allow, or even require, more than one input value. For example, atan2() requires two values, and muladd() requires three (look it up!).\n",
    "\n",
    "Moreover, functions must accept inputs of more than one type. For instance, if we enter \"cos(1)\" then we are sending a value with type Int64 to Julia's cos() function. And if we enter \"cos(1.)\" we are sending a value of type Float64. But the value created by Julia's cos() function in both cases is 0.5403023058681398.\n",
    "\n",
    "Which is exactly what we want, of course. BUT!\n",
    "\n",
    "A function name points to a code body. When the code actually executes, it should be specialised on one type, else it will run very slowly, if at all. A function such as cos() actually has several such code bodies, to deal with inputs of different types. These are called the *methods* of that function. So how do Julia functions manage to have only one name, but many methods?\n",
    "\n",
    "The answer is multiple dispatch: Julia allows many methods, as long as they differ according to input type. All the input values are used to check this, hence the name multiple dispatch. The pattern of types in the input values in a given function call is its *type signature*. For example, muladd() has 5 permissible type signatures, which we see by using the function methods():"
   ]
  },
  {
   "cell_type": "code",
   "execution_count": 7,
   "metadata": {
    "collapsed": false
   },
   "outputs": [
    {
     "data": {
      "text/html": [
       "5 methods for generic function <b>muladd</b>:<ul><li> muladd(x::<b>Float32</b>, y::<b>Float32</b>, z::<b>Float32</b>) at <a href=\"https://github.com/JuliaLang/julia/tree/2ac304dfba75fad148d4070ef4f8a2e400c305bb/base/float.jl#L216\" target=\"_blank\">float.jl:216</a><li> muladd(x::<b>Float64</b>, y::<b>Float64</b>, z::<b>Float64</b>) at <a href=\"https://github.com/JuliaLang/julia/tree/2ac304dfba75fad148d4070ef4f8a2e400c305bb/base/float.jl#L217\" target=\"_blank\">float.jl:217</a><li> muladd(a::<b>Float16</b>, b::<b>Float16</b>, c::<b>Float16</b>) at <a href=\"https://github.com/JuliaLang/julia/tree/2ac304dfba75fad148d4070ef4f8a2e400c305bb/base/float16.jl#L142\" target=\"_blank\">float16.jl:142</a><li> muladd<i>{T<:Number}</i>(x::<b>T<:Number</b>, y::<b>T<:Number</b>, z::<b>T<:Number</b>) at <a href=\"https://github.com/JuliaLang/julia/tree/2ac304dfba75fad148d4070ef4f8a2e400c305bb/base/promotion.jl#L219\" target=\"_blank\">promotion.jl:219</a><li> muladd(x::<b>Number</b>, y::<b>Number</b>, z::<b>Number</b>) at <a href=\"https://github.com/JuliaLang/julia/tree/2ac304dfba75fad148d4070ef4f8a2e400c305bb/base/promotion.jl#L174\" target=\"_blank\">promotion.jl:174</a></ul>"
      ],
      "text/plain": [
       "# 5 methods for generic function \"muladd\":\n",
       "muladd(x::Float32, y::Float32, z::Float32) at float.jl:216\n",
       "muladd(x::Float64, y::Float64, z::Float64) at float.jl:217\n",
       "muladd(a::Float16, b::Float16, c::Float16) at float16.jl:142\n",
       "muladd{T<:Number}(x::T<:Number, y::T<:Number, z::T<:Number) at promotion.jl:219\n",
       "muladd(x::Number, y::Number, z::Number) at promotion.jl:174"
      ]
     },
     "execution_count": 7,
     "metadata": {},
     "output_type": "execute_result"
    }
   ],
   "source": [
    "methods(muladd)"
   ]
  },
  {
   "cell_type": "markdown",
   "metadata": {},
   "source": [
    "Many of the bugs you can expect to see if you program in Julia arise because a function was called with values for which there is no method. That is, the type signature of the input values was wrong. You solve this in one of two ways\n",
    "- by making sure the input values have the right type signature, or \n",
    "- by writing an additional method for the required type signature"
   ]
  },
  {
   "cell_type": "markdown",
   "metadata": {},
   "source": [
    "[Back to the top](#In-this-lecture)"
   ]
  }
 ],
 "metadata": {
  "kernelspec": {
   "display_name": "Julia 0.4.5",
   "language": "julia",
   "name": "julia-0.4"
  },
  "language_info": {
   "file_extension": ".jl",
   "mimetype": "application/julia",
   "name": "julia",
   "version": "0.4.5"
  }
 },
 "nbformat": 4,
 "nbformat_minor": 0
}
