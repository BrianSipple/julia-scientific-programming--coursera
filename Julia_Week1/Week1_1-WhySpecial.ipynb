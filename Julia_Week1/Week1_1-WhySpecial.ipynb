{
 "cells": [
  {
   "cell_type": "code",
   "execution_count": 1,
   "metadata": {
    "collapsed": true
   },
   "outputs": [
    {
     "data": {
      "text/html": [
       "<link href='http://fonts.googleapis.com/css?family=Alegreya+Sans:100,300,400,500,700,800,900,100italic,300italic,400italic,500italic,700italic,800italic,900italic' rel='stylesheet' type='text/css'>\n",
       "<link href='http://fonts.googleapis.com/css?family=Arvo:400,700,400italic' rel='stylesheet' type='text/css'>\n",
       "<link href='http://fonts.googleapis.com/css?family=PT+Mono' rel='stylesheet' type='text/css'>\n",
       "<link href='http://fonts.googleapis.com/css?family=Shadows+Into+Light' rel='stylesheet' type='text/css'>\n",
       "<link href='http://fonts.googleapis.com/css?family=Philosopher:400,700,400italic,700italic' rel='stylesheet' type='text/css'>\n",
       "\n",
       "<style>\n",
       "\n",
       "@font-face {\n",
       "    font-family: \"Computer Modern\";\n",
       "    src: url('http://mirrors.ctan.org/fonts/cm-unicode/fonts/otf/cmunss.otf');\n",
       "}\n",
       "\n",
       "#notebook_panel { /* main background */\n",
       "    background: #ddd;\n",
       "    color: #000000;\n",
       "}\n",
       "\n",
       "\n",
       "\n",
       "/* Formatting for header cells */\n",
       ".text_cell_render h1 {\n",
       "    font-family: 'Philosopher', sans-serif;\n",
       "    font-weight: 400;\n",
       "    font-size: 2.2em;\n",
       "    line-height: 100%;\n",
       "    color: rgb(0, 80, 120);\n",
       "    margin-bottom: 0.1em;\n",
       "    margin-top: 0.1em;\n",
       "    display: block;\n",
       "}\t\n",
       ".text_cell_render h2 {\n",
       "    font-family: 'Philosopher', serif;\n",
       "    font-weight: 400;\n",
       "    font-size: 1.9em;\n",
       "    line-height: 100%;\n",
       "    color: rgb(200,100,0);\n",
       "    margin-bottom: 0.1em;\n",
       "    margin-top: 0.1em;\n",
       "    display: block;\n",
       "}\t\n",
       "\n",
       ".text_cell_render h3 {\n",
       "    font-family: 'Philosopher', serif;\n",
       "    margin-top:12px;\n",
       "    margin-bottom: 3px;\n",
       "    font-style: italic;\n",
       "    color: rgb(94,127,192);\n",
       "}\n",
       "\n",
       ".text_cell_render h4 {\n",
       "    font-family: 'Philosopher', serif;\n",
       "}\n",
       "\n",
       ".text_cell_render h5 {\n",
       "    font-family: 'Alegreya Sans', sans-serif;\n",
       "    font-weight: 300;\n",
       "    font-size: 16pt;\n",
       "    color: grey;\n",
       "    font-style: italic;\n",
       "    margin-bottom: .1em;\n",
       "    margin-top: 0.1em;\n",
       "    display: block;\n",
       "}\n",
       "\n",
       ".text_cell_render h6 {\n",
       "    font-family: 'PT Mono', sans-serif;\n",
       "    font-weight: 300;\n",
       "    font-size: 10pt;\n",
       "    color: grey;\n",
       "    margin-bottom: 1px;\n",
       "    margin-top: 1px;\n",
       "}\n",
       "\n",
       ".CodeMirror{\n",
       "        font-family: \"PT Mono\";\n",
       "        font-size: 100%;\n",
       "}\n",
       "\n",
       "</style>\n",
       "\n"
      ],
      "text/plain": [
       "HTML{ASCIIString}(\"<link href='http://fonts.googleapis.com/css?family=Alegreya+Sans:100,300,400,500,700,800,900,100italic,300italic,400italic,500italic,700italic,800italic,900italic' rel='stylesheet' type='text/css'>\\n<link href='http://fonts.googleapis.com/css?family=Arvo:400,700,400italic' rel='stylesheet' type='text/css'>\\n<link href='http://fonts.googleapis.com/css?family=PT+Mono' rel='stylesheet' type='text/css'>\\n<link href='http://fonts.googleapis.com/css?family=Shadows+Into+Light' rel='stylesheet' type='text/css'>\\n<link href='http://fonts.googleapis.com/css?family=Philosopher:400,700,400italic,700italic' rel='stylesheet' type='text/css'>\\n\\n<style>\\n\\n@font-face {\\n    font-family: \\\"Computer Modern\\\";\\n    src: url('http://mirrors.ctan.org/fonts/cm-unicode/fonts/otf/cmunss.otf');\\n}\\n\\n#notebook_panel { /* main background */\\n    background: #ddd;\\n    color: #000000;\\n}\\n\\n\\n\\n/* Formatting for header cells */\\n.text_cell_render h1 {\\n    font-family: 'Philosopher', sans-serif;\\n    font-weight: 400;\\n    font-size: 2.2em;\\n    line-height: 100%;\\n    color: rgb(0, 80, 120);\\n    margin-bottom: 0.1em;\\n    margin-top: 0.1em;\\n    display: block;\\n}\\t\\n.text_cell_render h2 {\\n    font-family: 'Philosopher', serif;\\n    font-weight: 400;\\n    font-size: 1.9em;\\n    line-height: 100%;\\n    color: rgb(200,100,0);\\n    margin-bottom: 0.1em;\\n    margin-top: 0.1em;\\n    display: block;\\n}\\t\\n\\n.text_cell_render h3 {\\n    font-family: 'Philosopher', serif;\\n    margin-top:12px;\\n    margin-bottom: 3px;\\n    font-style: italic;\\n    color: rgb(94,127,192);\\n}\\n\\n.text_cell_render h4 {\\n    font-family: 'Philosopher', serif;\\n}\\n\\n.text_cell_render h5 {\\n    font-family: 'Alegreya Sans', sans-serif;\\n    font-weight: 300;\\n    font-size: 16pt;\\n    color: grey;\\n    font-style: italic;\\n    margin-bottom: .1em;\\n    margin-top: 0.1em;\\n    display: block;\\n}\\n\\n.text_cell_render h6 {\\n    font-family: 'PT Mono', sans-serif;\\n    font-weight: 300;\\n    font-size: 10pt;\\n    color: grey;\\n    margin-bottom: 1px;\\n    margin-top: 1px;\\n}\\n\\n.CodeMirror{\\n        font-family: \\\"PT Mono\\\";\\n        font-size: 100%;\\n}\\n\\n</style>\\n\\n\")"
      ]
     },
     "execution_count": 1,
     "metadata": {},
     "output_type": "execute_result"
    }
   ],
   "source": [
    "# Setting up a custom stylesheet in IJulia\n",
    "file = open(\"style.css\") # A .css file in the same folder as this notebook file\n",
    "styl = readall(file) # Read the file\n",
    "HTML(\"$styl\") # Output as HTML"
   ]
  },
  {
   "cell_type": "markdown",
   "metadata": {},
   "source": [
    "# PROGRAMMING LANGUAGES AND WHY JULIA IS SPECIAL "
   ]
  },
  {
   "cell_type": "markdown",
   "metadata": {},
   "source": [
    "<h2>In this lesson</h2>\n",
    "\n",
    "- [Outcome](#Outcome)\n",
    "- [Comparison with other programming languages](#Comparison-with-other-programming-languages)\n",
    "- [Why Julia is easy to learn](#Why-Julia-is-easy-to-learn)\n",
    "- [Some technical aspects of Julia](#Some-technical-aspects-of-Julia)"
   ]
  },
  {
   "cell_type": "markdown",
   "metadata": {},
   "source": [
    "<hr>\n",
    "<h2>Outcome</h2>\n",
    "\n",
    "After this lesson, you will be able to: \n",
    "\n",
    "- Say how Julia compares to Python, Matlab, C and Fortran\n",
    "- Say why Julia is easy to learn\n",
    "- List some technical aspects of Julia"
   ]
  },
  {
   "cell_type": "markdown",
   "metadata": {},
   "source": [
    "[Back to the top](#In-this-lesson)"
   ]
  },
  {
   "cell_type": "markdown",
   "metadata": {},
   "source": [
    "<hr>\n",
    "<h2>Comparison with other programming languages</h2>\n",
    "\n",
    "#### Julia is easy to learn -- but so are many other languages, for example Python and Matlab\n",
    "\n",
    "#### Julia is fast -- but so are some other languages, notably C and Fortran (terms and condition apply)\n",
    "\n",
    "#### Julia is free -- but so are Python, R and Octave\n",
    "\n",
    "\n",
    ".\n",
    "### But Julia is unique in that it is all three: free, fast AND easy to learn\n",
    "\n",
    "[Back to the top](#In-this-lesson)"
   ]
  },
  {
   "cell_type": "markdown",
   "metadata": {},
   "source": [
    "<hr>\n",
    "<h2>Why Julia is easy to learn</h2>\n",
    "\n",
    "Basically, Julia is easy to learn because Julia programs are quick to write. The main reason concerns the number of lines of code:\n",
    "\n",
    "***IN JULIA, ONE WRITES ONLY A FEW LINES PER TASK***\n",
    "\n",
    "\n",
    "Computer programs are written to perform tasks. These can be simple, such as computing interest earned, or complex, such as converting speech to text.\n",
    "\n",
    "Julia programs tend to be short. For example, a C program for opening a file and reading its data into computer memory, converting the data to a different format along the way, can be expected to be far longer in C than in Julia.\n",
    "\n",
    "In this it is similar to Python and Matlab.\n",
    "\n",
    "\n",
    "## Speed of execution\n",
    "\n",
    "The speed of a program is quite a tricky thing to measure, what with computers varying a lot in basic processor speed, available memory, coprocessors and other multitasking tricks.\n",
    "\n",
    "Nevertheless, if a task in Python or Matlab is consuming a lot of time (that is, if it runs in minutes or hours rather than milliseconds and seconds), it often runs a lot faster in Julia. There are some benchmark tests to confirm this****. \n",
    "\n",
    "In this it is similar to C and Fortran (see also the remarks below on Julias *type system*).\n",
    "\n",
    "\n",
    "****To be fair, there are Python enthusiasts who declare those tests unreliable and biased.\n",
    "\n",
    "\n",
    "#### It should also be said that slow programs can be written in languages thath are supposed to be fast, and this is true for Julia as well. In this course, we will pay some attention to Julia's type system, which is the heart of most performance issues in Julia. However, the principles and techniques for making the most of Julia's capacity for speed is a subject for a more advanced course than this one.\n"
   ]
  },
  {
   "cell_type": "markdown",
   "metadata": {},
   "source": [
    "[Back to the top](#In-this-lesson)"
   ]
  },
  {
   "cell_type": "markdown",
   "metadata": {},
   "source": [
    "<hr>\n",
    "<h2>Some technical aspects of Julia</h2>\n",
    "\n",
    "### Julia is strongly typed and dynamic\n",
    "\n",
    "This combination is unique to Julia. Dynamic languages like Python and Matlab tend to be easy to learn and the programs written in them tend to quite short. Up to now, such languages have only used fairly simple type systems, which meant the programs could not be optimised to make the best possible use of processor capacity.\n",
    "\n",
    "It is the strong and very detailed type system that allows Julia code to run (almost) as fast as C. \n",
    "\n",
    "You will learn about Julia's type system in Lecture 6; we plunge into Julia's dynamic aspect in Lecture 3.\n",
    "\n",
    "### Julia functions have multiple dispatch\n",
    "\n",
    "This is linked to the type system. You will learn about functions in Lectures 8 and 9.\n",
    "\n",
    "### Julia supports parallel programming, is concurrent, and has a data model suitable for huge data sets.\n",
    "\n",
    "All these things means that Julia is especially suitable for distributed and networked computing and data management, and that it scales really well.\n",
    "\n",
    "### Julia interfaces particularly well with other languages\n",
    "\n",
    "These include a nearly-native way of using Python code in Julia and vice versa, a very powerful way of linking Julia with C code, and very natural integration of R and Julia. Other language interfaces are in development."
   ]
  },
  {
   "cell_type": "markdown",
   "metadata": {},
   "source": [
    "[Back to the top](#In-this-lesson)"
   ]
  }
 ],
 "metadata": {
  "kernelspec": {
   "display_name": "Julia 0.4.6",
   "language": "julia",
   "name": "julia-0.4"
  },
  "language_info": {
   "file_extension": ".jl",
   "mimetype": "application/julia",
   "name": "julia",
   "version": "0.4.6"
  }
 },
 "nbformat": 4,
 "nbformat_minor": 0
}
