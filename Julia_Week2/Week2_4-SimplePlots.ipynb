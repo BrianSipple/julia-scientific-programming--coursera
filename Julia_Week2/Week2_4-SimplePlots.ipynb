{
 "cells": [
  {
   "cell_type": "code",
   "execution_count": 1,
   "metadata": {
    "collapsed": false
   },
   "outputs": [
    {
     "data": {
      "text/html": [
       "<link href='http://fonts.googleapis.com/css?family=Alegreya+Sans:100,300,400,500,700,800,900,100italic,300italic,400italic,500italic,700italic,800italic,900italic' rel='stylesheet' type='text/css'>\n",
       "<link href='http://fonts.googleapis.com/css?family=Arvo:400,700,400italic' rel='stylesheet' type='text/css'>\n",
       "<link href='http://fonts.googleapis.com/css?family=PT+Mono' rel='stylesheet' type='text/css'>\n",
       "<link href='http://fonts.googleapis.com/css?family=Shadows+Into+Light' rel='stylesheet' type='text/css'>\n",
       "<link href='http://fonts.googleapis.com/css?family=Philosopher:400,700,400italic,700italic' rel='stylesheet' type='text/css'>\n",
       "\n",
       "<style>\n",
       "\n",
       "@font-face {\n",
       "    font-family: \"Computer Modern\";\n",
       "    src: url('http://mirrors.ctan.org/fonts/cm-unicode/fonts/otf/cmunss.otf');\n",
       "}\n",
       "\n",
       "#notebook_panel { /* main background */\n",
       "    background: #ddd;\n",
       "    color: #000000;\n",
       "}\n",
       "\n",
       "\n",
       "\n",
       "/* Formatting for header cells */\n",
       ".text_cell_render h1 {\n",
       "    font-family: 'Philosopher', sans-serif;\n",
       "    font-weight: 400;\n",
       "    font-size: 2.2em;\n",
       "    line-height: 100%;\n",
       "    color: rgb(0, 80, 120);\n",
       "    margin-bottom: 0.1em;\n",
       "    margin-top: 0.1em;\n",
       "    display: block;\n",
       "}\t\n",
       ".text_cell_render h2 {\n",
       "    font-family: 'Philosopher', serif;\n",
       "    font-weight: 400;\n",
       "    font-size: 1.9em;\n",
       "    line-height: 100%;\n",
       "    color: rgb(200,100,0);\n",
       "    margin-bottom: 0.1em;\n",
       "    margin-top: 0.1em;\n",
       "    display: block;\n",
       "}\t\n",
       "\n",
       ".text_cell_render h3 {\n",
       "    font-family: 'Philosopher', serif;\n",
       "    margin-top:12px;\n",
       "    margin-bottom: 3px;\n",
       "    font-style: italic;\n",
       "    color: rgb(94,127,192);\n",
       "}\n",
       "\n",
       ".text_cell_render h4 {\n",
       "    font-family: 'Philosopher', serif;\n",
       "}\n",
       "\n",
       ".text_cell_render h5 {\n",
       "    font-family: 'Alegreya Sans', sans-serif;\n",
       "    font-weight: 300;\n",
       "    font-size: 16pt;\n",
       "    color: grey;\n",
       "    font-style: italic;\n",
       "    margin-bottom: .1em;\n",
       "    margin-top: 0.1em;\n",
       "    display: block;\n",
       "}\n",
       "\n",
       ".text_cell_render h6 {\n",
       "    font-family: 'PT Mono', sans-serif;\n",
       "    font-weight: 300;\n",
       "    font-size: 10pt;\n",
       "    color: grey;\n",
       "    margin-bottom: 1px;\n",
       "    margin-top: 1px;\n",
       "}\n",
       "\n",
       ".CodeMirror{\n",
       "        font-family: \"PT Mono\";\n",
       "        font-size: 100%;\n",
       "}\n",
       "\n",
       "</style>\n",
       "\n"
      ],
      "text/plain": [
       "HTML{ASCIIString}(\"<link href='http://fonts.googleapis.com/css?family=Alegreya+Sans:100,300,400,500,700,800,900,100italic,300italic,400italic,500italic,700italic,800italic,900italic' rel='stylesheet' type='text/css'>\\n<link href='http://fonts.googleapis.com/css?family=Arvo:400,700,400italic' rel='stylesheet' type='text/css'>\\n<link href='http://fonts.googleapis.com/css?family=PT+Mono' rel='stylesheet' type='text/css'>\\n<link href='http://fonts.googleapis.com/css?family=Shadows+Into+Light' rel='stylesheet' type='text/css'>\\n<link href='http://fonts.googleapis.com/css?family=Philosopher:400,700,400italic,700italic' rel='stylesheet' type='text/css'>\\n\\n<style>\\n\\n@font-face {\\n    font-family: \\\"Computer Modern\\\";\\n    src: url('http://mirrors.ctan.org/fonts/cm-unicode/fonts/otf/cmunss.otf');\\n}\\n\\n#notebook_panel { /* main background */\\n    background: #ddd;\\n    color: #000000;\\n}\\n\\n\\n\\n/* Formatting for header cells */\\n.text_cell_render h1 {\\n    font-family: 'Philosopher', sans-serif;\\n    font-weight: 400;\\n    font-size: 2.2em;\\n    line-height: 100%;\\n    color: rgb(0, 80, 120);\\n    margin-bottom: 0.1em;\\n    margin-top: 0.1em;\\n    display: block;\\n}\\t\\n.text_cell_render h2 {\\n    font-family: 'Philosopher', serif;\\n    font-weight: 400;\\n    font-size: 1.9em;\\n    line-height: 100%;\\n    color: rgb(200,100,0);\\n    margin-bottom: 0.1em;\\n    margin-top: 0.1em;\\n    display: block;\\n}\\t\\n\\n.text_cell_render h3 {\\n    font-family: 'Philosopher', serif;\\n    margin-top:12px;\\n    margin-bottom: 3px;\\n    font-style: italic;\\n    color: rgb(94,127,192);\\n}\\n\\n.text_cell_render h4 {\\n    font-family: 'Philosopher', serif;\\n}\\n\\n.text_cell_render h5 {\\n    font-family: 'Alegreya Sans', sans-serif;\\n    font-weight: 300;\\n    font-size: 16pt;\\n    color: grey;\\n    font-style: italic;\\n    margin-bottom: .1em;\\n    margin-top: 0.1em;\\n    display: block;\\n}\\n\\n.text_cell_render h6 {\\n    font-family: 'PT Mono', sans-serif;\\n    font-weight: 300;\\n    font-size: 10pt;\\n    color: grey;\\n    margin-bottom: 1px;\\n    margin-top: 1px;\\n}\\n\\n.CodeMirror{\\n        font-family: \\\"PT Mono\\\";\\n        font-size: 100%;\\n}\\n\\n</style>\\n\\n\")"
      ]
     },
     "execution_count": 1,
     "metadata": {},
     "output_type": "execute_result"
    }
   ],
   "source": [
    "# Setting up a custom stylesheet in IJulia\n",
    "file = open(\"style.css\") # A .css file in the same folder as this notebook file\n",
    "styl = readall(file) # Read the file\n",
    "HTML(\"$styl\") # Output as HTML"
   ]
  },
  {
   "cell_type": "markdown",
   "metadata": {},
   "source": [
    "<h1> Simple plots with the Plots package </h1>"
   ]
  },
  {
   "cell_type": "markdown",
   "metadata": {},
   "source": [
    "<h2>In this lecture</h2>\n",
    "\n",
    "- [Outcome](#Outcome)\n",
    "- [Load the Plots package into a current notebook](#Load-the-Plots-package-into-a-current-notebook)\n",
    "- [Activate the PyPlot backend for use with Plots](#Activate-the-PyPlot-backend-for-use-with-Plots)\n",
    "- [Plot a curve from coordinate data](#Plot-a-curve-from-coordinate-data)\n",
    "- [Tweak the current plot](#Tweak-the-current-plot)\n",
    "- [Save the current plot](#Save-the-current-plot)\n"
   ]
  },
  {
   "cell_type": "markdown",
   "metadata": {},
   "source": [
    "[Back to the top](#In-this-lecture)"
   ]
  },
  {
   "cell_type": "markdown",
   "metadata": {},
   "source": [
    "<h2>Outcome</h2>\n",
    "\n",
    "After this lecture, you will be able to\n",
    "- Explain how the Plots package relate to other plotting projects in Julia\n",
    "- Load the Plots package into a current notebook and the PyPlot backend for use with Plots\n",
    "- Plot coordinate data as lines in the default style supplied by Plots\n",
    "- Modify the current plot style: replace lines with markers, add title and labels, remove legend and grid lines\n",
    "- Save the current plot in .png and .pdf format\n",
    "\n",
    "[Back to the top](#In-this-lecture)"
   ]
  },
  {
   "cell_type": "markdown",
   "metadata": {},
   "source": [
    "To start, we load the data that we saved last time (the *converted* data, of course), and we create the x- and y-coordinates of the points we want to plot. Those are of course just columns 1 and 2 of the data.\n",
    "\n",
    "We use array slicing to extract the data we need---note the use of  the \":\" operator"
   ]
  },
  {
   "cell_type": "code",
   "execution_count": 2,
   "metadata": {
    "collapsed": false
   },
   "outputs": [
    {
     "data": {
      "text/plain": [
       "54-element Array{Any,1}:\n",
       " 28637\n",
       " 28634\n",
       " 28635\n",
       " 28607\n",
       " 28539\n",
       " 28476\n",
       " 28454\n",
       " 28388\n",
       " 28295\n",
       " 28220\n",
       " 28147\n",
       " 28073\n",
       " 27952\n",
       "     ⋮\n",
       "  1835\n",
       "  1437\n",
       "  1201\n",
       "   982\n",
       "   779\n",
       "   528\n",
       "   309\n",
       "   260\n",
       "   239\n",
       "   176\n",
       "   130\n",
       "    49"
      ]
     },
     "execution_count": 2,
     "metadata": {},
     "output_type": "execute_result"
    }
   ],
   "source": [
    "EVDdata = readdlm(\"wikipediaEVDdatesconverted.csv\", ',')  # don't forget the delimiter!\n",
    "epidays = EVDdata[:, 1]  # Here \":\" means all the entries in all rows of the specified columns\n",
    "allcases = EVDdata[:, 2] # ditto---here, the specified columns is just column 2"
   ]
  },
  {
   "cell_type": "markdown",
   "metadata": {},
   "source": [
    "<h2>Load the Plots package into a current notebook</h2>\n",
    "\n",
    "Julia has quite a few projects on visualising scientific and technical data, and  several of them are concerned mainly with making plots. \n",
    "\n",
    "We choose to offer you the Plots package, together with the PyPlot backend. PyPlot is based on the Python package matplotlib, which in its turn imitates the way Matlab makes plots. This combination of Python and Matlab means that we can draw on a wealth of experience. \n",
    "\n",
    "Indeed, the PyPlot, matplotlib and Matlab communities are welcoming and helpful, and if you go online you will find lots of examples and discussions. If you have a particular query, a little internet searching will probably provide an answer. If not, there are many online forums where you could expect a rapid, polite and helpful reply to  most of your questions. \n",
    "\n",
    "We load Plots with a simple command. This also works from your own home installation, though  you may have to add the Plots package by issuing \"Pkg.add(\"Plots\")\"."
   ]
  },
  {
   "cell_type": "code",
   "execution_count": 3,
   "metadata": {
    "collapsed": true
   },
   "outputs": [],
   "source": [
    "using Plots   # this loads the Plots package into your current workspace. It may take a few seconds."
   ]
  },
  {
   "cell_type": "markdown",
   "metadata": {},
   "source": [
    "[Back to the top](#In-this-lecture)"
   ]
  },
  {
   "cell_type": "markdown",
   "metadata": {},
   "source": [
    "<h2>Activate the PyPlot backend for use with Plots</h2>"
   ]
  },
  {
   "cell_type": "markdown",
   "metadata": {},
   "source": [
    "As I said above, having loaded Plots we need to specify which backend to use. The idea of Plots is that we specify a plot with *identical code*, irrrespective of backend. To change backends is then just to run the command for the new backend.\n",
    "\n",
    "However, not all backends do the same things, of course, so some things work better in some back-ends and other things in others. For more information, do consult the Plots homepage at https://juliaplots.github.io . The PyPlot examples are at https://juliaplots.github.io/examples/pyplot/ .\n",
    "\n",
    "Here's how to specify PyPlot as the backend for  Plots to use:"
   ]
  },
  {
   "cell_type": "code",
   "execution_count": 4,
   "metadata": {
    "collapsed": false
   },
   "outputs": [
    {
     "data": {
      "text/plain": [
       "Plots.PyPlotBackend()"
      ]
     },
     "execution_count": 4,
     "metadata": {},
     "output_type": "execute_result"
    }
   ],
   "source": [
    "pyplot()"
   ]
  },
  {
   "cell_type": "markdown",
   "metadata": {},
   "source": [
    "Note that it is enough to use \"pyplot()\". That is, no arguments are needed. Plots has reasonable default values it uses, but the user can override them. For example, you can  specify a picture size of to your own liking."
   ]
  },
  {
   "cell_type": "markdown",
   "metadata": {},
   "source": [
    "[Back to the top](#In-this-lecture)"
   ]
  },
  {
   "cell_type": "markdown",
   "metadata": {},
   "source": [
    "<h2>Plot a curve from coordinate data</h2>\n",
    "\n",
    "For Plots to work as advertised, it must be extremely straightforward to plot the data. And it is:"
   ]
  },
  {
   "cell_type": "code",
   "execution_count": 5,
   "metadata": {
    "collapsed": false
   },
   "outputs": [
    {
     "name": "stdout",
     "output_type": "stream",
     "text": [
      "[Plots.jl] Initializing backend: pyplot\n"
     ]
    },
    {
     "name": "stderr",
     "output_type": "stream",
     "text": [
      "INFO: Precompiling module PyPlot...\n",
      "WARNING: Couldn't initialize pyplot.  (might need to install it?)\n"
     ]
    },
    {
     "ename": "LoadError",
     "evalue": "LoadError: InitError: Failed to pyimport(\"matplotlib\"): PyPlot will not work until you have a functioning matplotlib module.\n\nFor automated Matplotlib installation, try configuring PyCall to use the Conda Python distribution within Julia.  Relaunch Julia and run:\n      ENV[\"PYTHON\"]=\"\"\n      Pkg.build(\"PyCall\")\n      using PyPlot\n\npyimport exception was: PyError (:PyImport_ImportModule) <class 'ValueError'>\nValueError('unknown locale: UTF-8',)\n  File \"/Users/antoinetteengel/anaconda/lib/python3.5/site-packages/matplotlib/__init__.py\", line 1131, in <module>\n    rcParams = rc_params()\n  File \"/Users/antoinetteengel/anaconda/lib/python3.5/site-packages/matplotlib/__init__.py\", line 975, in rc_params\n    return rc_params_from_file(fname, fail_on_error)\n  File \"/Users/antoinetteengel/anaconda/lib/python3.5/site-packages/matplotlib/__init__.py\", line 1100, in rc_params_from_file\n    config_from_file = _rc_params_in_file(fname, fail_on_error)\n  File \"/Users/antoinetteengel/anaconda/lib/python3.5/site-packages/matplotlib/__init__.py\", line 1018, in _rc_params_in_file\n    with _open_file_or_url(fname) as fd:\n  File \"/Users/antoinetteengel/anaconda/lib/python3.5/contextlib.py\", line 59, in __enter__\n    return next(self.gen)\n  File \"/Users/antoinetteengel/anaconda/lib/python3.5/site-packages/matplotlib/__init__.py\", line 1000, in _open_file_or_url\n    encoding = locale.getdefaultlocale()[1]\n  File \"/Users/antoinetteengel/anaconda/lib/python3.5/locale.py\", line 559, in getdefaultlocale\n    return _parse_localename(localename)\n  File \"/Users/antoinetteengel/anaconda/lib/python3.5/locale.py\", line 487, in _parse_localename\n    raise ValueError('unknown locale: %s' % localename)\n\nduring initialization of module PyPlot\nwhile loading In[5], in expression starting on line 1",
     "output_type": "error",
     "traceback": [
      "LoadError: InitError: Failed to pyimport(\"matplotlib\"): PyPlot will not work until you have a functioning matplotlib module.\n\nFor automated Matplotlib installation, try configuring PyCall to use the Conda Python distribution within Julia.  Relaunch Julia and run:\n      ENV[\"PYTHON\"]=\"\"\n      Pkg.build(\"PyCall\")\n      using PyPlot\n\npyimport exception was: PyError (:PyImport_ImportModule) <class 'ValueError'>\nValueError('unknown locale: UTF-8',)\n  File \"/Users/antoinetteengel/anaconda/lib/python3.5/site-packages/matplotlib/__init__.py\", line 1131, in <module>\n    rcParams = rc_params()\n  File \"/Users/antoinetteengel/anaconda/lib/python3.5/site-packages/matplotlib/__init__.py\", line 975, in rc_params\n    return rc_params_from_file(fname, fail_on_error)\n  File \"/Users/antoinetteengel/anaconda/lib/python3.5/site-packages/matplotlib/__init__.py\", line 1100, in rc_params_from_file\n    config_from_file = _rc_params_in_file(fname, fail_on_error)\n  File \"/Users/antoinetteengel/anaconda/lib/python3.5/site-packages/matplotlib/__init__.py\", line 1018, in _rc_params_in_file\n    with _open_file_or_url(fname) as fd:\n  File \"/Users/antoinetteengel/anaconda/lib/python3.5/contextlib.py\", line 59, in __enter__\n    return next(self.gen)\n  File \"/Users/antoinetteengel/anaconda/lib/python3.5/site-packages/matplotlib/__init__.py\", line 1000, in _open_file_or_url\n    encoding = locale.getdefaultlocale()[1]\n  File \"/Users/antoinetteengel/anaconda/lib/python3.5/locale.py\", line 559, in getdefaultlocale\n    return _parse_localename(localename)\n  File \"/Users/antoinetteengel/anaconda/lib/python3.5/locale.py\", line 487, in _parse_localename\n    raise ValueError('unknown locale: %s' % localename)\n\nduring initialization of module PyPlot\nwhile loading In[5], in expression starting on line 1",
      ""
     ]
    }
   ],
   "source": [
    "plot(epidays, allcases)"
   ]
  },
  {
   "cell_type": "markdown",
   "metadata": {},
   "source": [
    "Hm, not too bad! Good choice of scale for the two axes. A light blue for the curve is not that readable for some people, but it looks pretty. The default is to show a legend but not title or axis labels.\n",
    "\n",
    "Plots lives up to its billing---simple to use, good pictures produced."
   ]
  },
  {
   "cell_type": "markdown",
   "metadata": {},
   "source": [
    "[Back to the top](#In-this-lecture)"
   ]
  },
  {
   "cell_type": "markdown",
   "metadata": {},
   "source": [
    "<h2>Tweak the current plot</h2>"
   ]
  },
  {
   "cell_type": "markdown",
   "metadata": {},
   "source": [
    "We choose different attributes by specifying the values of keywords. Plots provides many ways to do this, but I'll show only a few. For more information, see the Plots homepage https://juliaplots.github.io/ .\n",
    "\n",
    "I think the plot would be better if it used symbols for the data points. Let's also omit the line. That means the line type is set to \"scatter\". The keyword for the symbol that is plotted is \"marker\", and I  choose \"diamond\" as its value. Note the use of the colon in the syntax below!"
   ]
  },
  {
   "cell_type": "code",
   "execution_count": 6,
   "metadata": {
    "collapsed": true
   },
   "outputs": [
    {
     "data": {
      "text/html": [
       "<img src=\"data:image/png;base64,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\" />"
      ]
     },
     "execution_count": 6,
     "metadata": {},
     "output_type": "execute_result"
    }
   ],
   "source": [
    "plot(epidays, allcases, linetype = :scatter, marker = :diamond)"
   ]
  },
  {
   "cell_type": "markdown",
   "metadata": {},
   "source": [
    "We should also add a title and axis labels, and while we're at it turn off the legend. For illustration, I also change the line type and line style so that a gray dotted line is plotted between the diamonds, tur the grid off and  increase the size of the diamonds.\n",
    "\n",
    "For the long command that results, it is a good idea to use white space to break it into logical parts. Note that although visually it looks like several lines, it is just one function call and so in the sense of computer programming it is just one unit of code."
   ]
  },
  {
   "cell_type": "code",
   "execution_count": 7,
   "metadata": {
    "collapsed": true
   },
   "outputs": [
    {
     "name": "stdout",
     "output_type": "stream",
     "text": [
      "[Plots.jl] Initializing backend: pyplot\n"
     ]
    },
    {
     "data": {
      "text/html": [
       "<img src=\"data:image/png;base64,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\" />"
      ]
     },
     "execution_count": 7,
     "metadata": {},
     "output_type": "execute_result"
    }
   ],
   "source": [
    "plot(epidays, allcases,   # here are the data to be plotted, below are the attributes\n",
    "title       = \"West African EVD epidemic, total cases\", \n",
    "xlabel    = \"Days since 22 March 2014\",\n",
    "ylabel    = \"Total cases to date (three countries)\",\n",
    "marker  = (:diamond, 8),  # note the use of  parentheses to group the marker attributes into a composite of attributes \n",
    "line         = (:path, :dot, :gray),   # line attributes likewise put together as one unit by the use of parantheses\n",
    "legend   = false,\n",
    "grid        = false)    \n",
    "\n",
    "# A nice thing: this layout permits us add comments to individual parts of  the function call. \n",
    "# Also, notice that it helps readibility to line up vertically all the assignment \"=\" signs"
   ]
  },
  {
   "cell_type": "markdown",
   "metadata": {},
   "source": [
    "[Back to the top](#In-this-lecture)"
   ]
  },
  {
   "cell_type": "markdown",
   "metadata": {},
   "source": [
    "<h2>Save the current plot</h2>\n",
    "\n",
    "Of course, one needs to be able to save plots from the screen in a format to be used elsewhere. For documents and presentations, pdf is a good format, while for websites .png is often preferred. \n",
    "\n",
    "The function to use is savefig(). Plots will follow the extension you provide for the filename. If you omit the filename, the defaults kick in and Plots will use png as the format and add .png as the file extension.\n",
    "\n",
    "All three cases are illustrated below. After you've saved the figures, check in your folder that they are there and work as advertised!"
   ]
  },
  {
   "cell_type": "code",
   "execution_count": 9,
   "metadata": {
    "collapsed": true
   },
   "outputs": [],
   "source": [
    "savefig(\"WAfricanEVD_noformatspecified\")             # no extension, so plot saves it as .png  \n",
    "savefig(\"WAfricanEVD.pdf\")      # Saved as a pdf\n",
    "savefig(\"WAfricanEVD.png\")     # Saved png format"
   ]
  },
  {
   "cell_type": "markdown",
   "metadata": {},
   "source": [
    "[Back to the top](#In-this-lecture)"
   ]
  }
 ],
 "metadata": {
  "kernelspec": {
   "display_name": "Julia 0.4.6",
   "language": "julia",
   "name": "julia-0.4"
  },
  "language_info": {
   "file_extension": ".jl",
   "mimetype": "application/julia",
   "name": "julia",
   "version": "0.4.6"
  }
 },
 "nbformat": 4,
 "nbformat_minor": 0
}
