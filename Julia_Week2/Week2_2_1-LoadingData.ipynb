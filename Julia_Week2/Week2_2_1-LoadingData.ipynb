{
 "cells": [
  {
   "cell_type": "code",
   "execution_count": 1,
   "metadata": {
    "collapsed": true
   },
   "outputs": [
    {
     "data": {
      "text/html": [
       "<link href='http://fonts.googleapis.com/css?family=Alegreya+Sans:100,300,400,500,700,800,900,100italic,300italic,400italic,500italic,700italic,800italic,900italic' rel='stylesheet' type='text/css'>\n",
       "<link href='http://fonts.googleapis.com/css?family=Arvo:400,700,400italic' rel='stylesheet' type='text/css'>\n",
       "<link href='http://fonts.googleapis.com/css?family=PT+Mono' rel='stylesheet' type='text/css'>\n",
       "<link href='http://fonts.googleapis.com/css?family=Shadows+Into+Light' rel='stylesheet' type='text/css'>\n",
       "<link href='http://fonts.googleapis.com/css?family=Philosopher:400,700,400italic,700italic' rel='stylesheet' type='text/css'>\n",
       "\n",
       "<style>\n",
       "\n",
       "@font-face {\n",
       "    font-family: \"Computer Modern\";\n",
       "    src: url('http://mirrors.ctan.org/fonts/cm-unicode/fonts/otf/cmunss.otf');\n",
       "}\n",
       "\n",
       "#notebook_panel { /* main background */\n",
       "    background: #ddd;\n",
       "    color: #000000;\n",
       "}\n",
       "\n",
       "\n",
       "\n",
       "/* Formatting for header cells */\n",
       ".text_cell_render h1 {\n",
       "    font-family: 'Philosopher', sans-serif;\n",
       "    font-weight: 400;\n",
       "    font-size: 2.2em;\n",
       "    line-height: 100%;\n",
       "    color: rgb(0, 80, 120);\n",
       "    margin-bottom: 0.1em;\n",
       "    margin-top: 0.1em;\n",
       "    display: block;\n",
       "}\t\n",
       ".text_cell_render h2 {\n",
       "    font-family: 'Philosopher', serif;\n",
       "    font-weight: 400;\n",
       "    font-size: 1.9em;\n",
       "    line-height: 100%;\n",
       "    color: rgb(200,100,0);\n",
       "    margin-bottom: 0.1em;\n",
       "    margin-top: 0.1em;\n",
       "    display: block;\n",
       "}\t\n",
       "\n",
       ".text_cell_render h3 {\n",
       "    font-family: 'Philosopher', serif;\n",
       "    margin-top:12px;\n",
       "    margin-bottom: 3px;\n",
       "    font-style: italic;\n",
       "    color: rgb(94,127,192);\n",
       "}\n",
       "\n",
       ".text_cell_render h4 {\n",
       "    font-family: 'Philosopher', serif;\n",
       "}\n",
       "\n",
       ".text_cell_render h5 {\n",
       "    font-family: 'Alegreya Sans', sans-serif;\n",
       "    font-weight: 300;\n",
       "    font-size: 16pt;\n",
       "    color: grey;\n",
       "    font-style: italic;\n",
       "    margin-bottom: .1em;\n",
       "    margin-top: 0.1em;\n",
       "    display: block;\n",
       "}\n",
       "\n",
       ".text_cell_render h6 {\n",
       "    font-family: 'PT Mono', sans-serif;\n",
       "    font-weight: 300;\n",
       "    font-size: 10pt;\n",
       "    color: grey;\n",
       "    margin-bottom: 1px;\n",
       "    margin-top: 1px;\n",
       "}\n",
       "\n",
       ".CodeMirror{\n",
       "        font-family: \"PT Mono\";\n",
       "        font-size: 100%;\n",
       "}\n",
       "\n",
       "</style>\n",
       "\n"
      ],
      "text/plain": [
       "HTML{ASCIIString}(\"<link href='http://fonts.googleapis.com/css?family=Alegreya+Sans:100,300,400,500,700,800,900,100italic,300italic,400italic,500italic,700italic,800italic,900italic' rel='stylesheet' type='text/css'>\\n<link href='http://fonts.googleapis.com/css?family=Arvo:400,700,400italic' rel='stylesheet' type='text/css'>\\n<link href='http://fonts.googleapis.com/css?family=PT+Mono' rel='stylesheet' type='text/css'>\\n<link href='http://fonts.googleapis.com/css?family=Shadows+Into+Light' rel='stylesheet' type='text/css'>\\n<link href='http://fonts.googleapis.com/css?family=Philosopher:400,700,400italic,700italic' rel='stylesheet' type='text/css'>\\n\\n<style>\\n\\n@font-face {\\n    font-family: \\\"Computer Modern\\\";\\n    src: url('http://mirrors.ctan.org/fonts/cm-unicode/fonts/otf/cmunss.otf');\\n}\\n\\n#notebook_panel { /* main background */\\n    background: #ddd;\\n    color: #000000;\\n}\\n\\n\\n\\n/* Formatting for header cells */\\n.text_cell_render h1 {\\n    font-family: 'Philosopher', sans-serif;\\n    font-weight: 400;\\n    font-size: 2.2em;\\n    line-height: 100%;\\n    color: rgb(0, 80, 120);\\n    margin-bottom: 0.1em;\\n    margin-top: 0.1em;\\n    display: block;\\n}\\t\\n.text_cell_render h2 {\\n    font-family: 'Philosopher', serif;\\n    font-weight: 400;\\n    font-size: 1.9em;\\n    line-height: 100%;\\n    color: rgb(200,100,0);\\n    margin-bottom: 0.1em;\\n    margin-top: 0.1em;\\n    display: block;\\n}\\t\\n\\n.text_cell_render h3 {\\n    font-family: 'Philosopher', serif;\\n    margin-top:12px;\\n    margin-bottom: 3px;\\n    font-style: italic;\\n    color: rgb(94,127,192);\\n}\\n\\n.text_cell_render h4 {\\n    font-family: 'Philosopher', serif;\\n}\\n\\n.text_cell_render h5 {\\n    font-family: 'Alegreya Sans', sans-serif;\\n    font-weight: 300;\\n    font-size: 16pt;\\n    color: grey;\\n    font-style: italic;\\n    margin-bottom: .1em;\\n    margin-top: 0.1em;\\n    display: block;\\n}\\n\\n.text_cell_render h6 {\\n    font-family: 'PT Mono', sans-serif;\\n    font-weight: 300;\\n    font-size: 10pt;\\n    color: grey;\\n    margin-bottom: 1px;\\n    margin-top: 1px;\\n}\\n\\n.CodeMirror{\\n        font-family: \\\"PT Mono\\\";\\n        font-size: 100%;\\n}\\n\\n</style>\\n\\n\")"
      ]
     },
     "execution_count": 1,
     "metadata": {},
     "output_type": "execute_result"
    }
   ],
   "source": [
    "# Setting up a custom stylesheet in IJulia\n",
    "file = open(\"style.css\") # A .css file in the same folder as this notebook file\n",
    "styl = readall(file) # Read the file\n",
    "HTML(\"$styl\") # Output as HTML"
   ]
  },
  {
   "cell_type": "markdown",
   "metadata": {},
   "source": [
    "<h1> Ebola and Wikipedia: Loading publicly available data using Julia </h1>"
   ]
  },
  {
   "cell_type": "markdown",
   "metadata": {},
   "source": [
    "<h2>In this lecture</h2>\n",
    "\n",
    "- [Outcome](#Outcome)\n",
    "- [Wikipedia data on the West African EVD epidemic](#Wikipedia-data-on-the-West-African-EVD-epidemic)\n",
    "- [Using readdlm() to load a .csv file](#Using-readdlm-to-load-a-.csv-file)"
   ]
  },
  {
   "cell_type": "markdown",
   "metadata": {},
   "source": [
    "[Back to the top](#In-this-lecture)"
   ]
  },
  {
   "cell_type": "markdown",
   "metadata": {},
   "source": [
    "<h2>Outcome</h2>\n",
    "\n",
    "After this lecture, you will be able to\n",
    "- Find data on the West African EVD epidemic online\n",
    "- Use readdlm() to load data from a .csv file containing this data\n",
    "\n",
    "[Back to the top](#In-this-lecture)"
   ]
  },
  {
   "cell_type": "markdown",
   "metadata": {},
   "source": [
    "<h2>Wikipedia data on the West African EVD epidemic</h2>\n",
    "\n",
    "Wikipedia has many excellent articles on Ebola. We will be using one with fairly complete data on the timeline of cases: https://en.wikipedia.org/wiki/West_African_Ebola_virus_epidemic_timeline_of_reported_cases_and_deaths\n",
    "\n",
    "Go there now, please, and navigate until you see a table that looks like this:\n",
    "\n",
    "<img src=\"Week2_Lecture2_1-Wikipedia-EVD-cases.png\" alt=\"(Screenshot of wikipedia table of WA EVD cases)\">\n"
   ]
  },
  {
   "cell_type": "markdown",
   "metadata": {},
   "source": [
    "[Back to the top](#In-this-lecture)"
   ]
  },
  {
   "cell_type": "markdown",
   "metadata": {},
   "source": [
    "We have provided the data as a file named wikipediaEVDraw.csv. The \".csv\" extension indicates that it is a comma-separated file, and the \"raw\" in the filename indicates that the data are imported as is, without any changes.\n",
    "\n",
    "If you would like to learn how to create .csv files from tables on the web, please go the optional lecture \"How to export web tables to .csv files\"."
   ]
  },
  {
   "cell_type": "markdown",
   "metadata": {},
   "source": [
    "[Back to the top](#In-this-lecture)"
   ]
  },
  {
   "cell_type": "markdown",
   "metadata": {},
   "source": [
    "<h2>Using readdlm to load a .csv file</h2>\n",
    "\n",
    "Now we can start using Julia again. In a new notebook for you Week 2 Julia code, enter and execute the line below:"
   ]
  },
  {
   "cell_type": "code",
   "execution_count": 3,
   "metadata": {
    "collapsed": false
   },
   "outputs": [
    {
     "data": {
      "text/plain": [
       "54x9 Array{Any,2}:\n",
       " \"25 Nov 2015\"  28637  11314  3804  2536  …  4808     14122     3955   \n",
       " \"18 Nov 2015\"  28634  11314  3804  2536     4808     14122     3955   \n",
       " \"11 Nov 2015\"  28635  11314  3805  2536     4808     14122     3955   \n",
       " \"4 Nov 2015\"   28607  11314  3810  2536     4808     14089     3955   \n",
       " \"25 Oct 2015\"  28539  11298  3806  2535     4808     14061     3955   \n",
       " \"18 Oct 2015\"  28476  11298  3803  2535  …  4808     14001     3955   \n",
       " \"11 Oct 2015\"  28454  11297  3800  2534     4808     13982     3955   \n",
       " \"27 Sep 2015\"  28388  11296  3805  2533     4808     13911     3955   \n",
       " \"20 Sep 2015\"  28295  11295  3800  2532     4808     13823     3955   \n",
       " \"13 Sep 2015\"  28220  11291  3792  2530     4808     13756     3953   \n",
       " \"6 Sep 2015\"   28147  11291  3792  2530  …  4808     13683     3953   \n",
       " \"30 Aug 2015\"  28073  11290  3792  2529     4808     13609     3953   \n",
       " \"16 Aug 2015\"  27952  11284  3786  2524     4808     13494     3952   \n",
       " ⋮                                        ⋱                            \n",
       " \"9 Aug 2014\"    1835   1011   506   373      323       730      315   \n",
       " \"30 Jul 2014\"   1437    825   472   346      227       574      252   \n",
       " \"23 Jul 2014\"   1201    672   427   319      129       525      224   \n",
       " \"14 Jul 2014\"    982    613   411   310  …   106       397      197   \n",
       " \"2 Jul 2014\"     779    481   412   305       75       252      101   \n",
       " \"17 Jun 2014\"    528    337   398   264       24        97       49   \n",
       " \"27 May 2014\"    309    202   281   186       11        16        5   \n",
       " \"12 May 2014\"    260    182   248   171       11          \"–\"      \"–\"\n",
       " \"1 May 2014\"     239    160   226   149  …    11          \"-\"      \"-\"\n",
       " \"14 Apr 2014\"    176    110   168   108        2          \"–\"      \"–\"\n",
       " \"31 Mar 2014\"    130     82   122    80        2          \"–\"      \"–\"\n",
       " \"22 Mar 2014\"     49     29    49    29         \"–\"       \"–\"      \"–\""
      ]
     },
     "execution_count": 3,
     "metadata": {},
     "output_type": "execute_result"
    }
   ],
   "source": [
    "wikiEVDraw = readdlm(\"wikipediaEVDraw.csv\", ',')  # getting quotes right is important!"
   ]
  },
  {
   "cell_type": "markdown",
   "metadata": {},
   "source": [
    "The readdlm() function is Julia's way to read any file that consists of lines separated into data items with a delimeter of some sort. In fact, the very word \"readdlm\" is an abbreviation of \"read-with-a-delimiter\". \n",
    "\n",
    "Notice three things\n",
    "- We have used a variable to contain the data from the file (you could change the name, though, if you like)\n",
    "- The file name is given as a string, using double quotes\n",
    "- The delimeter is given as a character, using single quotes\n",
    "\n",
    "Finally, we see that the type of the data, after it has been stored in the variable is an array, the elements of which are of Any type. This is not good for computation---in particular, for modelling we need the data in terms of days since the start of the epidemic. Our next job is to convert the strings in columnn one into integers which give number of days since 22 March 2014."
   ]
  },
  {
   "cell_type": "markdown",
   "metadata": {},
   "source": [
    "[Back to the top](#In-this-lecture)"
   ]
  }
 ],
 "metadata": {
  "kernelspec": {
   "display_name": "Julia 0.4.6",
   "language": "julia",
   "name": "julia-0.4"
  },
  "language_info": {
   "file_extension": ".jl",
   "mimetype": "application/julia",
   "name": "julia",
   "version": "0.4.6"
  }
 },
 "nbformat": 4,
 "nbformat_minor": 0
}
