{
 "cells": [
  {
   "cell_type": "code",
   "execution_count": 1,
   "metadata": {
    "collapsed": false
   },
   "outputs": [
    {
     "data": {
      "text/html": [
       "<link href='http://fonts.googleapis.com/css?family=Alegreya+Sans:100,300,400,500,700,800,900,100italic,300italic,400italic,500italic,700italic,800italic,900italic' rel='stylesheet' type='text/css'>\n",
       "<link href='http://fonts.googleapis.com/css?family=Arvo:400,700,400italic' rel='stylesheet' type='text/css'>\n",
       "<link href='http://fonts.googleapis.com/css?family=PT+Mono' rel='stylesheet' type='text/css'>\n",
       "<link href='http://fonts.googleapis.com/css?family=Shadows+Into+Light' rel='stylesheet' type='text/css'>\n",
       "<link href='http://fonts.googleapis.com/css?family=Philosopher:400,700,400italic,700italic' rel='stylesheet' type='text/css'>\n",
       "\n",
       "<style>\n",
       "\n",
       "@font-face {\n",
       "    font-family: \"Computer Modern\";\n",
       "    src: url('http://mirrors.ctan.org/fonts/cm-unicode/fonts/otf/cmunss.otf');\n",
       "}\n",
       "\n",
       "#notebook_panel { /* main background */\n",
       "    background: #ddd;\n",
       "    color: #000000;\n",
       "}\n",
       "\n",
       "\n",
       "\n",
       "/* Formatting for header cells */\n",
       ".text_cell_render h1 {\n",
       "    font-family: 'Philosopher', sans-serif;\n",
       "    font-weight: 400;\n",
       "    font-size: 2.2em;\n",
       "    line-height: 100%;\n",
       "    color: rgb(0, 80, 120);\n",
       "    margin-bottom: 0.1em;\n",
       "    margin-top: 0.1em;\n",
       "    display: block;\n",
       "}\t\n",
       ".text_cell_render h2 {\n",
       "    font-family: 'Philosopher', serif;\n",
       "    font-weight: 400;\n",
       "    font-size: 1.9em;\n",
       "    line-height: 100%;\n",
       "    color: rgb(200,100,0);\n",
       "    margin-bottom: 0.1em;\n",
       "    margin-top: 0.1em;\n",
       "    display: block;\n",
       "}\t\n",
       "\n",
       ".text_cell_render h3 {\n",
       "    font-family: 'Philosopher', serif;\n",
       "    margin-top:12px;\n",
       "    margin-bottom: 3px;\n",
       "    font-style: italic;\n",
       "    color: rgb(94,127,192);\n",
       "}\n",
       "\n",
       ".text_cell_render h4 {\n",
       "    font-family: 'Philosopher', serif;\n",
       "}\n",
       "\n",
       ".text_cell_render h5 {\n",
       "    font-family: 'Alegreya Sans', sans-serif;\n",
       "    font-weight: 300;\n",
       "    font-size: 16pt;\n",
       "    color: grey;\n",
       "    font-style: italic;\n",
       "    margin-bottom: .1em;\n",
       "    margin-top: 0.1em;\n",
       "    display: block;\n",
       "}\n",
       "\n",
       ".text_cell_render h6 {\n",
       "    font-family: 'PT Mono', sans-serif;\n",
       "    font-weight: 300;\n",
       "    font-size: 10pt;\n",
       "    color: grey;\n",
       "    margin-bottom: 1px;\n",
       "    margin-top: 1px;\n",
       "}\n",
       "\n",
       ".CodeMirror{\n",
       "        font-family: \"PT Mono\";\n",
       "        font-size: 100%;\n",
       "}\n",
       "\n",
       "</style>\n",
       "\n"
      ],
      "text/plain": [
       "HTML{ASCIIString}(\"<link href='http://fonts.googleapis.com/css?family=Alegreya+Sans:100,300,400,500,700,800,900,100italic,300italic,400italic,500italic,700italic,800italic,900italic' rel='stylesheet' type='text/css'>\\n<link href='http://fonts.googleapis.com/css?family=Arvo:400,700,400italic' rel='stylesheet' type='text/css'>\\n<link href='http://fonts.googleapis.com/css?family=PT+Mono' rel='stylesheet' type='text/css'>\\n<link href='http://fonts.googleapis.com/css?family=Shadows+Into+Light' rel='stylesheet' type='text/css'>\\n<link href='http://fonts.googleapis.com/css?family=Philosopher:400,700,400italic,700italic' rel='stylesheet' type='text/css'>\\n\\n<style>\\n\\n@font-face {\\n    font-family: \\\"Computer Modern\\\";\\n    src: url('http://mirrors.ctan.org/fonts/cm-unicode/fonts/otf/cmunss.otf');\\n}\\n\\n#notebook_panel { /* main background */\\n    background: #ddd;\\n    color: #000000;\\n}\\n\\n\\n\\n/* Formatting for header cells */\\n.text_cell_render h1 {\\n    font-family: 'Philosopher', sans-serif;\\n    font-weight: 400;\\n    font-size: 2.2em;\\n    line-height: 100%;\\n    color: rgb(0, 80, 120);\\n    margin-bottom: 0.1em;\\n    margin-top: 0.1em;\\n    display: block;\\n}\\t\\n.text_cell_render h2 {\\n    font-family: 'Philosopher', serif;\\n    font-weight: 400;\\n    font-size: 1.9em;\\n    line-height: 100%;\\n    color: rgb(200,100,0);\\n    margin-bottom: 0.1em;\\n    margin-top: 0.1em;\\n    display: block;\\n}\\t\\n\\n.text_cell_render h3 {\\n    font-family: 'Philosopher', serif;\\n    margin-top:12px;\\n    margin-bottom: 3px;\\n    font-style: italic;\\n    color: rgb(94,127,192);\\n}\\n\\n.text_cell_render h4 {\\n    font-family: 'Philosopher', serif;\\n}\\n\\n.text_cell_render h5 {\\n    font-family: 'Alegreya Sans', sans-serif;\\n    font-weight: 300;\\n    font-size: 16pt;\\n    color: grey;\\n    font-style: italic;\\n    margin-bottom: .1em;\\n    margin-top: 0.1em;\\n    display: block;\\n}\\n\\n.text_cell_render h6 {\\n    font-family: 'PT Mono', sans-serif;\\n    font-weight: 300;\\n    font-size: 10pt;\\n    color: grey;\\n    margin-bottom: 1px;\\n    margin-top: 1px;\\n}\\n\\n.CodeMirror{\\n        font-family: \\\"PT Mono\\\";\\n        font-size: 100%;\\n}\\n\\n</style>\\n\\n\")"
      ]
     },
     "execution_count": 1,
     "metadata": {},
     "output_type": "execute_result"
    }
   ],
   "source": [
    "# Setting up a custom stylesheet in IJulia\n",
    "file = open(\"style.css\") # A .css file in the same folder as this notebook file\n",
    "styl = readall(file) # Read the file\n",
    "HTML(\"$styl\") # Output as HTML"
   ]
  },
  {
   "cell_type": "markdown",
   "metadata": {},
   "source": [
    "<h1> Plotting data and an approximately fitted line simultaneously </h1>"
   ]
  },
  {
   "cell_type": "markdown",
   "metadata": {},
   "source": [
    "<h2>In this lecture</h2>\n",
    "\n",
    "- [Outcome](#Outcome)\n",
    "- [Julia's modify-the-argument functions](#Julia's-modify-the-argument-functions)\n",
    "- [The difference between plot() and plot!()](#The-difference-between-\"plot\"-and-\"plot!\")\n",
    "- [An example: approximating the cosine function](#An-example:-approximating-the-cosine-function)"
   ]
  },
  {
   "cell_type": "markdown",
   "metadata": {},
   "source": [
    "[Back to the top](#In-this-lecture)"
   ]
  },
  {
   "cell_type": "markdown",
   "metadata": {},
   "source": [
    "<h2>Outcome</h2>\n",
    "\n",
    "After this lecture, you will be able to\n",
    "- Explain how Julia's plot!() function differs from plot()\n",
    "- Use plot!() to overlay a fitted curve to a scatter of data\n",
    "- Modify the plot: adding labels, axis styles, line styles etc\n"
   ]
  },
  {
   "cell_type": "markdown",
   "metadata": {},
   "source": [
    "[Back to the top](#In-this-lecture)"
   ]
  },
  {
   "cell_type": "markdown",
   "metadata": {},
   "source": [
    "<h2>Julia's modify-the-argument functions</h2>\n",
    "\n",
    "A lovely feature of Julia is the convention of labelling modify-the-argument functions with an exclamation mark.\n",
    "\n",
    "For example, consider the function fill!(), illustrated below."
   ]
  },
  {
   "cell_type": "code",
   "execution_count": 8,
   "metadata": {
    "collapsed": true
   },
   "outputs": [
    {
     "data": {
      "text/plain": [
       "4-element Array{Any,1}:\n",
       " \"hello ... word\"\n",
       " \"hello ... word\"\n",
       " \"hello ... word\"\n",
       " \"hello ... word\""
      ]
     },
     "execution_count": 8,
     "metadata": {},
     "output_type": "execute_result"
    }
   ],
   "source": [
    "tempvar = Array(Any, 4)\n",
    "fill!(tempvar, \"hello ... word\")"
   ]
  },
  {
   "cell_type": "code",
   "execution_count": 9,
   "metadata": {
    "collapsed": true
   },
   "outputs": [
    {
     "data": {
      "text/plain": [
       "4-element Array{Any,1}:\n",
       " 777\n",
       " 777\n",
       " 777\n",
       " 777"
      ]
     },
     "execution_count": 9,
     "metadata": {},
     "output_type": "execute_result"
    }
   ],
   "source": [
    "fill!(tempvar, 777)"
   ]
  },
  {
   "cell_type": "markdown",
   "metadata": {},
   "source": [
    "Let's just look at how the help system briefly, comparing these two functions and also looking at all functions starting with \"a\" and with \"b\" to see how many of the modify-in-place functions Julia has."
   ]
  },
  {
   "cell_type": "code",
   "execution_count": 11,
   "metadata": {
    "collapsed": true
   },
   "outputs": [
    {
     "name": "stdout",
     "output_type": "stream",
     "text": [
      "search: any all abs ans ANY atan asin asec any! all! airy acsc acot acos abs2\n",
      "\n",
      "Couldn't find a\n",
      "Perhaps you meant *, +, -, /, ^, h, w, !, $, %, &, :, <, >, I, \\, e, |, ~ or ×\n"
     ]
    },
    {
     "ename": "LoadError",
     "evalue": "LoadError: \"a\" is not defined in module Main\nwhile loading In[11], in expression starting on line 119",
     "output_type": "error",
     "traceback": [
      "LoadError: \"a\" is not defined in module Main\nwhile loading In[11], in expression starting on line 119",
      "",
      " in error at /Applications/Julia-0.4.6.app/Contents/Resources/julia/lib/julia/sys.dylib",
      " in which_module at /Applications/Julia-0.4.6.app/Contents/Resources/julia/lib/julia/sys.dylib",
      " in call at /Applications/Julia-0.4.6.app/Contents/Resources/julia/lib/julia/sys.dylib"
     ]
    }
   ],
   "source": [
    "?b"
   ]
  },
  {
   "cell_type": "markdown",
   "metadata": {},
   "source": [
    "We see that quite a few functions have a plain form and an exclamation form. And many of the exclamation-ending-modify-in-place functions do things like add or remove values. They tend to be low level functions. The advantage of course is that as values are created they are written to space in memory that is already in use. This can speed up one's code significantly, and can also be important when your data sets are so large that memory efficiency becomes an issue."
   ]
  },
  {
   "cell_type": "markdown",
   "metadata": {},
   "source": [
    "[Back to the top](#In-this-lecture)"
   ]
  },
  {
   "cell_type": "markdown",
   "metadata": {},
   "source": [
    "<h2>The difference between \"plot\" and \"plot!\"</h2>\n",
    "\n",
    "As we remarked, Plots is a package for using all the Julia plotting packages. The designer of Plots made the interesting choice (I think) to have only one active plot: if you want to make a different plot, you save your current plot and start on a new one. This simplifies the display of a plot. In our case, the notebook allows us to view different plots, because each plot is saved with its particular cell. In keeping with the idea of Plots, you cannot associate more than one plot with a cell.\n",
    "\n",
    "So in general, if you call plot() a second time, it wipes out the old plot and draws a completely new one. But Plots *also* doesn't allow you to specify multiple different x-values for your plot. You can plot many different curves, as we did for the different countries' Ebola numbers (week 2, lecture 5), but only if they all use the same x-values.\n",
    "\n",
    "To enable us to plot completely different curves, not only in style and colour and so on but also completely different x- and y-values, Plots gives us a function that modifies an existing plot. This function is plot!().\n",
    "\n",
    "So the idea is the following: specify a plot for the first set of data using \"plot()\", and then specify, on the same plot, a second set of data by using \"plot!\""
   ]
  },
  {
   "cell_type": "markdown",
   "metadata": {},
   "source": [
    "[Back to the top](#In-this-lecture)"
   ]
  },
  {
   "cell_type": "markdown",
   "metadata": {},
   "source": [
    "<h2>An example: approximating the cosine function</h2>\n",
    "\n",
    "An example will make this clear. It is well known that the cosine function has approximations based on  Taylor series. We will use the fact that \n",
    "\n",
    "$cos(x) \\approx 1 - \\dfrac{x^2}{2} + \\dfrac{x^4}{24} - \\dfrac{x^6}{720}$\n",
    "\n",
    "is an excellent approximation as long as $x$ is near zero. We will pretend the approximate values are experimental data, so there are just a few points. Then we compare the actual function as a curve, and compare them.\n",
    "\n",
    "While we're at it, let's practice writing functions. We will write a function that takes a whole vector as input, and one by one evaluates the elements using the approximation formula, and then returns an output vector of the same size as the input."
   ]
  },
  {
   "cell_type": "code",
   "execution_count": 5,
   "metadata": {
    "collapsed": true
   },
   "outputs": [
    {
     "data": {
      "text/plain": [
       "200-element Array{Float64,1}:\n",
       " 1.0     \n",
       " 0.999546\n",
       " 0.998182\n",
       " 0.995912\n",
       " 0.992736\n",
       " 0.988658\n",
       " 0.983681\n",
       " 0.97781 \n",
       " 0.971051\n",
       " 0.963408\n",
       " 0.95489 \n",
       " 0.945504\n",
       " 0.935258\n",
       " ⋮       \n",
       " 0.816864\n",
       " 0.833882\n",
       " 0.850142\n",
       " 0.865629\n",
       " 0.880329\n",
       " 0.894229\n",
       " 0.907317\n",
       " 0.919579\n",
       " 0.931006\n",
       " 0.941586\n",
       " 0.951311\n",
       " 0.96017 "
      ]
     },
     "execution_count": 5,
     "metadata": {},
     "output_type": "execute_result"
    }
   ],
   "source": [
    "function approxcos(x)\n",
    "    #initialise the output ... note the use of size() to specify the dimensions of the output vector\n",
    "    outval = Array(Any, size(x))  \n",
    "    \n",
    "    # now we loop over the input vector, and for each  element calculate and store the approximation\n",
    "    ii = 0  # this will be the index into the vector\n",
    "    for aa in x   # this aa is just a number, an element of the vector\n",
    "        y = 1 - aa^2/2 + aa^4/24 - aa^6/720 + aa^8/(56*720) # the approximation ...\n",
    "        ii = ii+1            #this sets the index correctly\n",
    "        outval[ii] = y     # and this stores the approximation in the right place\n",
    "    \n",
    "    end\n",
    "    \n",
    "    return outval  \n",
    "end\n",
    "\n",
    "\n",
    "\n",
    "\n",
    "x1 = 6rand(10)  # rand() is one of several random number functions in Julia. It returns numbers that uniformly fill the interval [0, 1]\n",
    "#                   .... here we use it get a set of sampling points in the interval [0, 4]\n",
    "\n",
    "x2 = linspace(0, 6, 200)   # look up linspace() using \"?\" ... it's a nice way to get evenly spaced points\n",
    "\n",
    "\n",
    "y1 = approxcos(x1)\n",
    "y2 = cos(x2)\n"
   ]
  },
  {
   "cell_type": "code",
   "execution_count": 13,
   "metadata": {
    "collapsed": true
   },
   "outputs": [
    {
     "data": {
      "text/html": [
       "<img src=\"data:image/png;base64,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\" />"
      ]
     },
     "execution_count": 13,
     "metadata": {},
     "output_type": "execute_result"
    }
   ],
   "source": [
    "# now the plots\n",
    "using Plots; pyplot()    # it is sometimes convenient to cram a line in this way\n",
    "\n",
    "#first the plot of the approximation points\n",
    "plot(x1, y1, line=:scatter, legend=:false, title=\"Illustrating 6th-order approximation to cos\")\n",
    "\n",
    "plot!(x2,y2; line = (:path, :red))   #then add the accurate line with plot!()"
   ]
  },
  {
   "cell_type": "markdown",
   "metadata": {},
   "source": [
    "[Back to the top](#In-this-lecture)"
   ]
  }
 ],
 "metadata": {
  "kernelspec": {
   "display_name": "Julia 0.4.6",
   "language": "julia",
   "name": "julia-0.4"
  },
  "language_info": {
   "file_extension": ".jl",
   "mimetype": "application/julia",
   "name": "julia",
   "version": "0.4.6"
  }
 },
 "nbformat": 4,
 "nbformat_minor": 0
}
