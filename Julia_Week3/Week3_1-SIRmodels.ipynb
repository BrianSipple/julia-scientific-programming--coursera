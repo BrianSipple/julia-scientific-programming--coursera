{
 "cells": [
  {
   "cell_type": "code",
   "execution_count": 1,
   "metadata": {
    "collapsed": false
   },
   "outputs": [
    {
     "data": {
      "text/html": [
       "<link href='http://fonts.googleapis.com/css?family=Alegreya+Sans:100,300,400,500,700,800,900,100italic,300italic,400italic,500italic,700italic,800italic,900italic' rel='stylesheet' type='text/css'>\n",
       "<link href='http://fonts.googleapis.com/css?family=Arvo:400,700,400italic' rel='stylesheet' type='text/css'>\n",
       "<link href='http://fonts.googleapis.com/css?family=PT+Mono' rel='stylesheet' type='text/css'>\n",
       "<link href='http://fonts.googleapis.com/css?family=Shadows+Into+Light' rel='stylesheet' type='text/css'>\n",
       "<link href='http://fonts.googleapis.com/css?family=Philosopher:400,700,400italic,700italic' rel='stylesheet' type='text/css'>\n",
       "\n",
       "<style>\n",
       "\n",
       "@font-face {\n",
       "    font-family: \"Computer Modern\";\n",
       "    src: url('http://mirrors.ctan.org/fonts/cm-unicode/fonts/otf/cmunss.otf');\n",
       "}\n",
       "\n",
       "#notebook_panel { /* main background */\n",
       "    background: #ddd;\n",
       "    color: #000000;\n",
       "}\n",
       "\n",
       "\n",
       "\n",
       "/* Formatting for header cells */\n",
       ".text_cell_render h1 {\n",
       "    font-family: 'Philosopher', sans-serif;\n",
       "    font-weight: 400;\n",
       "    font-size: 2.2em;\n",
       "    line-height: 100%;\n",
       "    color: rgb(0, 80, 120);\n",
       "    margin-bottom: 0.1em;\n",
       "    margin-top: 0.1em;\n",
       "    display: block;\n",
       "}\t\n",
       ".text_cell_render h2 {\n",
       "    font-family: 'Philosopher', serif;\n",
       "    font-weight: 400;\n",
       "    font-size: 1.9em;\n",
       "    line-height: 100%;\n",
       "    color: rgb(200,100,0);\n",
       "    margin-bottom: 0.1em;\n",
       "    margin-top: 0.1em;\n",
       "    display: block;\n",
       "}\t\n",
       "\n",
       ".text_cell_render h3 {\n",
       "    font-family: 'Philosopher', serif;\n",
       "    margin-top:12px;\n",
       "    margin-bottom: 3px;\n",
       "    font-style: italic;\n",
       "    color: rgb(94,127,192);\n",
       "}\n",
       "\n",
       ".text_cell_render h4 {\n",
       "    font-family: 'Philosopher', serif;\n",
       "}\n",
       "\n",
       ".text_cell_render h5 {\n",
       "    font-family: 'Alegreya Sans', sans-serif;\n",
       "    font-weight: 300;\n",
       "    font-size: 16pt;\n",
       "    color: grey;\n",
       "    font-style: italic;\n",
       "    margin-bottom: .1em;\n",
       "    margin-top: 0.1em;\n",
       "    display: block;\n",
       "}\n",
       "\n",
       ".text_cell_render h6 {\n",
       "    font-family: 'PT Mono', sans-serif;\n",
       "    font-weight: 300;\n",
       "    font-size: 10pt;\n",
       "    color: grey;\n",
       "    margin-bottom: 1px;\n",
       "    margin-top: 1px;\n",
       "}\n",
       "\n",
       ".CodeMirror{\n",
       "        font-family: \"PT Mono\";\n",
       "        font-size: 100%;\n",
       "}\n",
       "\n",
       "</style>\n",
       "\n"
      ],
      "text/plain": [
       "HTML{ASCIIString}(\"<link href='http://fonts.googleapis.com/css?family=Alegreya+Sans:100,300,400,500,700,800,900,100italic,300italic,400italic,500italic,700italic,800italic,900italic' rel='stylesheet' type='text/css'>\\n<link href='http://fonts.googleapis.com/css?family=Arvo:400,700,400italic' rel='stylesheet' type='text/css'>\\n<link href='http://fonts.googleapis.com/css?family=PT+Mono' rel='stylesheet' type='text/css'>\\n<link href='http://fonts.googleapis.com/css?family=Shadows+Into+Light' rel='stylesheet' type='text/css'>\\n<link href='http://fonts.googleapis.com/css?family=Philosopher:400,700,400italic,700italic' rel='stylesheet' type='text/css'>\\n\\n<style>\\n\\n@font-face {\\n    font-family: \\\"Computer Modern\\\";\\n    src: url('http://mirrors.ctan.org/fonts/cm-unicode/fonts/otf/cmunss.otf');\\n}\\n\\n#notebook_panel { /* main background */\\n    background: #ddd;\\n    color: #000000;\\n}\\n\\n\\n\\n/* Formatting for header cells */\\n.text_cell_render h1 {\\n    font-family: 'Philosopher', sans-serif;\\n    font-weight: 400;\\n    font-size: 2.2em;\\n    line-height: 100%;\\n    color: rgb(0, 80, 120);\\n    margin-bottom: 0.1em;\\n    margin-top: 0.1em;\\n    display: block;\\n}\\t\\n.text_cell_render h2 {\\n    font-family: 'Philosopher', serif;\\n    font-weight: 400;\\n    font-size: 1.9em;\\n    line-height: 100%;\\n    color: rgb(200,100,0);\\n    margin-bottom: 0.1em;\\n    margin-top: 0.1em;\\n    display: block;\\n}\\t\\n\\n.text_cell_render h3 {\\n    font-family: 'Philosopher', serif;\\n    margin-top:12px;\\n    margin-bottom: 3px;\\n    font-style: italic;\\n    color: rgb(94,127,192);\\n}\\n\\n.text_cell_render h4 {\\n    font-family: 'Philosopher', serif;\\n}\\n\\n.text_cell_render h5 {\\n    font-family: 'Alegreya Sans', sans-serif;\\n    font-weight: 300;\\n    font-size: 16pt;\\n    color: grey;\\n    font-style: italic;\\n    margin-bottom: .1em;\\n    margin-top: 0.1em;\\n    display: block;\\n}\\n\\n.text_cell_render h6 {\\n    font-family: 'PT Mono', sans-serif;\\n    font-weight: 300;\\n    font-size: 10pt;\\n    color: grey;\\n    margin-bottom: 1px;\\n    margin-top: 1px;\\n}\\n\\n.CodeMirror{\\n        font-family: \\\"PT Mono\\\";\\n        font-size: 100%;\\n}\\n\\n</style>\\n\\n\")"
      ]
     },
     "execution_count": 1,
     "metadata": {},
     "output_type": "execute_result"
    }
   ],
   "source": [
    "# Setting up a custom stylesheet in IJulia\n",
    "file = open(\"style.css\") # A .css file in the same folder as this notebook file\n",
    "styl = readall(file) # Read the file\n",
    "HTML(\"$styl\") # Output as HTML"
   ]
  },
  {
   "cell_type": "markdown",
   "metadata": {},
   "source": [
    "<h1> SIR models of disease dynamics </h1>"
   ]
  },
  {
   "cell_type": "markdown",
   "metadata": {},
   "source": [
    "<h2>In this lecture</h2>\n",
    "\n",
    "- [Outcome](#Outcome)\n",
    "- [SIR Models: the concepts](#SIR-Models:-the-concepts)\n",
    "- [SIR Models: the equations](#SIR-Models:-the-equations)\n",
    "- [Julia code: the function for one time-step](#Julia-code:-the-function-for-one-time-step)\n",
    "- [Julia code: the loop structure](#Julia-code:-the-loop-structure)\n",
    "- [Running the model](#Running-the-model)\n",
    "- [Plotting the results](#Plotting-the-results)\n"
   ]
  },
  {
   "cell_type": "markdown",
   "metadata": {},
   "source": [
    "[Back to the top](#In-this-lecture)"
   ]
  },
  {
   "cell_type": "markdown",
   "metadata": {},
   "source": [
    "<h2>Outcome</h2>\n",
    "\n",
    "After this lecture, you will be able to\n",
    "- Define the compartments S, I and R of an SIR\n",
    "- Formulate an SIR model for infectious diseases\n",
    "- Write a \"for\" loop to for an SIR model \n",
    "- Plot the curves for S(t), I(t) and R(t)\n",
    "\n",
    "[Back to the top](#In-this-lecture)"
   ]
  },
  {
   "cell_type": "markdown",
   "metadata": {},
   "source": [
    "<h2>SIR Models: the concepts</h2>\n",
    "\n",
    "SIR models formalise what is probably the simplest possible way to think of an epidemic: \n",
    "- before the epidemic starts, there is a population at risk of catching the disease\n",
    "- the disease spreads from infected to susceptible people\n",
    "- after a while, people are no longer infected\n",
    "- once infected, people are never infected again\n",
    "- we ignore all other differences between people\n",
    "\n",
    "We use the symbol $S$ for the number of people who are still at risk of the disease. \"$S$\" is short for \"susceptible\", meaning a person who hasn't had the disease and might catch it. We think of $S$ as a function of time, that is, we think that as the epidemic progresses, $S$ changes. Therefore we write $S(t)$ for the number of suseptibles at time $t$.\n",
    "\n",
    "The number $S(0)$, which is the number of susceptibles at the start of the epidemic, is a key value in this model.\n",
    "\n",
    "The number of infected people at time $t$ is given by $I(t)$. We assume that $I(0) > 0$, because otherwise the epidemic can't start.\n",
    "\n",
    "Finally, the people previously infected but no longer infectious are called \"removed\". (Unfortunately, this doesn't mean they've recovered. They may still be ill, or as happens tragically often with Ebola, they may be dead). We use $R(t)$ to symbolise the number of removed people  at time $t$.\n",
    "\n",
    "\n"
   ]
  },
  {
   "cell_type": "markdown",
   "metadata": {},
   "source": [
    "**NB! It is not necessary for S, I and R to be whole numbers. ** This is a model, and all we want is for the predicted values of $S$, $I$ and $R$ to be close to what is observed. By close we mean within a few percent. In fact, because the models are so simple and the real situation so variable, getting numbers within a few percent is a major achievement.\n",
    "\n",
    "Unfortunately, this is usually possible only with  hindsight. We will show that an SIR model can do pretty well for the 2014 West African EVD epidemic, but it will be with hindsight. The course of the epidemic was not successfully predicted until it was nearly over."
   ]
  },
  {
   "cell_type": "markdown",
   "metadata": {},
   "source": [
    "[Back to the top](#In-this-lecture)"
   ]
  },
  {
   "cell_type": "markdown",
   "metadata": {},
   "source": [
    "<h2>SIR Models: the equations</h2>\n",
    "\n",
    "We will model $S$, $I$ and $R$ in discrete time steps. In fact, we will use the same length of time step $dt$ for every step. We denote by $t_i$ the time after $i$ steps. Since we assume that $t_0 = 0$, we have $t_i = i\\,dt$.\n",
    "\n",
    "The model steps from $t_i$ to $t_{i+1}$, so what we want to do is use the values of $S(t_i)$, $I(t_i)$ and $R(t_i)$ to predict the values $S(t_{i+1})$, $I(t_{i+1})$ and $R(t_{i+1})$. So our model is set up in terms of three equations.\n",
    "\n",
    "These equations all have the form \"new value = old value + gains - losses\". The model specifies how we calculate the gains and losses.\n",
    "\n",
    "For susceptibles, there is only a loss term. The simplest SIR models come from the so-called \"law of mass action\". This law holds that all susceptibles have an equal chance of meeting an infected person. And the same is assumed for infected people. Then the number of  meetings of infecteds and susceptibles is proportional to product $SI$. We use the symbol $\\lambda$ for the constant of proportionality, and we interpret $\\lambda SI$ as the rate at which susceptibles become infected. This is of course a rate per day. So the actual loss over the time step $dt$ is actually $\\lambda SI\\,dt$ so the equation for $S$ is\n",
    "\n",
    "1 ...     $ S(t_{i+1}) = S(t_i) - \\lambda S(t_i)I(t_i)\\,dt$.\n",
    "\n",
    "On the other hand, the loss rate for infected people is just a constant probability of recovery per unit time. So a constant fraction $\\gamma$ is removed from the infecteds per day. This gives a loss of $\\gamma I$ infecteds per day, which is $\\gamma I\\,dt$ loss of infecteds per time step. The gain of infecteds must be exactly the susceptibles who become infected, so the equation for $I$ is\n",
    "\n",
    "2 ...     $I(t_{i+1}) = I(t_i) + \\lambda S(t_i)I(t_i)\\,dt - \\gamma I(t_i)\\,dt$.\n",
    "\n",
    "In an SIR model, the removed population equation has only a gain term, no loss term. What is lost from infecteds is gained by removeds, so the equation for $R$ is\n",
    "\n",
    "3 ...     $R(t_{i+1}) = R(t_i) + \\gamma I(t_i)\\,dt$.\n",
    "\n",
    "Our discrete SIR model consists of equations 1, 2 and 3 for $S$, $I$, $R$."
   ]
  },
  {
   "cell_type": "markdown",
   "metadata": {},
   "source": [
    "[Back to the top](#In-this-lecture)"
   ]
  },
  {
   "cell_type": "markdown",
   "metadata": {},
   "source": [
    "<h2>Julia code: the function for one time-step</h2>\n",
    "\n",
    "So now we consider the best way to write the Julia code. We have several options: we could write a \"for\" loop with the three equations inside; we could make three functions, one for each of $S$, $I$ and $R$; we could combine all three into one array and write one function to update all three at the same time. We will do that here.\n",
    "\n",
    "**Julia functions have access to all variables that are visible at the level that the function is created**\n",
    "\n",
    "This feature of Julia will surprise many experienced programmers. If we assign a value to the variable b and then call a function that uses b without mentioning b in the argument of the function, the function will nevertheless use the value of b as needed. See below:\n"
   ]
  },
  {
   "cell_type": "code",
   "execution_count": 19,
   "metadata": {
    "collapsed": true
   },
   "outputs": [
    {
     "data": {
      "text/plain": [
       "24"
      ]
     },
     "execution_count": 19,
     "metadata": {},
     "output_type": "execute_result"
    }
   ],
   "source": [
    "b = 4;\n",
    "f(x) = b*x\n",
    "f(6)"
   ]
  },
  {
   "cell_type": "markdown",
   "metadata": {},
   "source": [
    "We will use this feature to pass the values of $\\lambda$ and $\\gamma$ to the updating function. That is, in writing the code for the function, we pass it only the $S$, $I$, $R$ arguments and take the parameter values from the context in which the function is called. This is actually amazingly convenient, especially when we want to experiment with different parameter values for  the sake of fitting the model output to the data.\n",
    "\n",
    "This means the function looks like this:"
   ]
  },
  {
   "cell_type": "code",
   "execution_count": 20,
   "metadata": {
    "collapsed": true
   },
   "outputs": [
    {
     "data": {
      "text/plain": [
       "updateSIR (generic function with 1 method)"
      ]
     },
     "execution_count": 20,
     "metadata": {},
     "output_type": "execute_result"
    }
   ],
   "source": [
    "function updateSIR(popnvector)       # some liberty here: using upper case in the function name\n",
    "    susceptibles = popnvector[1];\n",
    "    infecteds    = popnvector[2]; \n",
    "    removeds     = popnvector[3];\n",
    "    newS = susceptibles - lambda*susceptibles*infecteds*dt\n",
    "    newI = infecteds + lambda*susceptibles*infecteds*dt - gam*infecteds*dt  #note abbreviation for gamma (see below)\n",
    "    newR = removeds + gam*infecteds*dt\n",
    "    return [newS newI newR]   # NB! spaces only to make this a one row of a two-dimensional array\n",
    "    #                   and note the use of \"return\" to specify what the function output should be \n",
    "end"
   ]
  },
  {
   "cell_type": "markdown",
   "metadata": {},
   "source": [
    "One should always do at least minimal checking that a function works as expected. \n",
    "\n",
    "For professional code, one should do extensive checking, both of output and input ... one should in fact write the function so that if it fails, it fails  gracefully, and give it some protection against error conditions. But we're not writing professional code!\n",
    "\n",
    "On the other hand, let us take the opportunity also to illustrate some typical bugs and how to meet them."
   ]
  },
  {
   "cell_type": "code",
   "execution_count": 21,
   "metadata": {
    "collapsed": true
   },
   "outputs": [
    {
     "data": {
      "text/plain": [
       "1x3 Array{Float64,2}:\n",
       " 975.0  34.5  20.5"
      ]
     },
     "execution_count": 21,
     "metadata": {},
     "output_type": "execute_result"
    }
   ],
   "source": [
    "# first we set the parameters\n",
    "dt = 0.5                    # so we are taking two steps per day\n",
    "lambda = 1/200; gam = 1/10  #note that gamma is a function in the stats packages, so let's not use it as a name\n",
    "\n",
    "# then we specify the input vector to the function\n",
    "s, i, r = 1000., 10, 20  # multiple assignment\n",
    "vec = [s i r]         # followed by creating the input vector; spaces again so that it is a row of an array\n",
    "updateSIR(vec)        # finally the actual function call to test the function"
   ]
  },
  {
   "cell_type": "markdown",
   "metadata": {},
   "source": [
    "[Back to the top](#In-this-lecture)"
   ]
  },
  {
   "cell_type": "markdown",
   "metadata": {},
   "source": [
    "<h2>Julia code: the loop structure</h2>\n",
    "\n",
    "Now we consider the loop structure. We can't run the model indefinitely, of course, so there has to be a definite end time $T_f$. We will use $T_f=610$ days, which is just a little more than the number of epidemic days in the data from Wikipedia.\n",
    "\n",
    "The number of steps is then in principle $n = T_f/dt$, but here is a delicate moment in the use of computers. Computer arithmetic is not infinitely precise, and so we cannot be quite sure that if we use the computer to calculate $n$ in this way that we will exactly have $n\\,dt = T_f$ as we expect on the grounds of algebra. I like to set time as a separate variable, to keep explicit track of step number $i$, and to continue for $n$ steps. Then if at the end the time is not exactly $T_f$ it doesn't matter, because it will be extremely close to it.\n",
    "\n",
    "The take-home message is DO NOT RELY ON EXACT EQUALITY, even if you can reasonably expect it. Computers normally are only very close to the numbers you, the programmer, are thinking of (excluding again the exactness that professional programmers may sometimes achieve).\n",
    "\n",
    "Knowing the value of $n$ also allows us to initialise an array to hold all the values as they're collected, one row of three elements for each value of the time. This will end up being $n+1$ values, of course.\n",
    "\n",
    "So here is the concept code:"
   ]
  },
  {
   "cell_type": "code",
   "execution_count": 22,
   "metadata": {
    "collapsed": false
   },
   "outputs": [],
   "source": [
    "tfinal = 610;    # respecting community values: lowercase only in the names \n",
    "nsteps = round(Int64, tfinal/dt)    # note the use of round() with type Int64 to ensure that nsteps is an integer\n",
    "resultvals = Array(Float64, nsteps+1, 3)  #initialise array of type Float64 to hold results\n",
    "timevec = Array(Float64, nsteps+1)        # ... ditto for time values\n",
    "\n",
    "# specify the initial values S(0), I(0), R(0)\n",
    "# resultvals[1,:] = [s0, i0, r0]  # ... and assign them to the first row\n",
    "\n",
    "for step  = 1:nsteps\n",
    "    # call updateSIR with the step vals and load result into resultvals[step+1, :]\n",
    "    # update time and load it into timevec\n",
    "end"
   ]
  },
  {
   "cell_type": "markdown",
   "metadata": {},
   "source": [
    "[Back to the top](#In-this-lecture)"
   ]
  },
  {
   "cell_type": "markdown",
   "metadata": {},
   "source": [
    "<h2>Running the model</h2>\n",
    "\n",
    "We can now run the model. To illustrate the steps, I paste the  cell above into the cell below, and supply the missing bits, this includes the parameter values that we set up before, but not the updateSIR function, as we do not wish to modify that."
   ]
  },
  {
   "cell_type": "code",
   "execution_count": 23,
   "metadata": {
    "collapsed": false
   },
   "outputs": [],
   "source": [
    "# set the values that define the current run\n",
    "lambda = 1/20000   # infection rate parameter (assumes rates are per day)\n",
    "gam = 1/10       # recovery rate parameter  (ditto)\n",
    "dt = 0.5         # length of time step in days\n",
    "tfinal = 610;    # respecting community values: lowercase only in the names \n",
    "s0 = 10000.0     # initial susceptibles, note that we use the  type Float64 from the start\n",
    "i0 = 4.          # initial infecteds; set this to 1. to  mimic an epidemic with an index case\n",
    "r0 = 0.          # not always the case, of course\n",
    "\n",
    "# initialise \n",
    "nsteps = round(Int64, tfinal/dt)    # note the use of round() with type Int64 to ensure that nsteps is an integer\n",
    "resultvals = Array(Float64, nsteps+1, 3)  #initialise array of type Float64 to hold results\n",
    "timevec = Array(Float64, nsteps+1)        # ... ditto for time values\n",
    "resultvals[1,:] = [s0, i0, r0]  # ... and assign them to the first row\n",
    "timevec[1] = 0.                 # also Float64, of course.\n",
    "\n",
    "for step  = 1:nsteps\n",
    "    resultvals[step+1, :] = updateSIR(resultvals[step, :])  # NB! pay careful attention to the rows being used\n",
    "    timevec[step+1] = timevec[step] + dt\n",
    "end"
   ]
  },
  {
   "cell_type": "markdown",
   "metadata": {},
   "source": [
    "[Back to the top](#In-this-lecture)"
   ]
  },
  {
   "cell_type": "markdown",
   "metadata": {},
   "source": [
    "<h2>Plotting the results</h2>\n",
    "\n",
    "It is now simple  to plot the three population components versus the time.\n",
    "\n"
   ]
  },
  {
   "cell_type": "code",
   "execution_count": 24,
   "metadata": {
    "collapsed": true
   },
   "outputs": [
    {
     "data": {
      "text/html": [
       "<img src=\"data:image/png;base64,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\" />"
      ]
     },
     "execution_count": 24,
     "metadata": {},
     "output_type": "execute_result"
    }
   ],
   "source": [
    "using Plots\n",
    "pyplot()\n",
    "plot(timevec, resultvals)  # quick and dirty! Plots ought to interpret this as we mean it ..."
   ]
  },
  {
   "cell_type": "code",
   "execution_count": 25,
   "metadata": {
    "collapsed": true
   },
   "outputs": [
    {
     "data": {
      "text/html": [
       "<img src=\"data:image/png;base64,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\" />"
      ]
     },
     "execution_count": 25,
     "metadata": {},
     "output_type": "execute_result"
    }
   ],
   "source": [
    "plot(timevec, resultvals,  # we should of course at a minimum provide some labels\n",
    "title  = \"Example of SIR results\",\n",
    "xlabel = \"Epidemic day\",\n",
    "ylabel = \"Population size\",\n",
    "label  = [\"Susceptibles\" \"Infecteds\" \"Removeds\"]\n",
    ")"
   ]
  },
  {
   "cell_type": "markdown",
   "metadata": {},
   "source": [
    "[Back to the top](#In-this-lecture)"
   ]
  }
 ],
 "metadata": {
  "kernelspec": {
   "display_name": "Julia 0.4.6",
   "language": "julia",
   "name": "julia-0.4"
  },
  "language_info": {
   "file_extension": ".jl",
   "mimetype": "application/julia",
   "name": "julia",
   "version": "0.4.6"
  }
 },
 "nbformat": 4,
 "nbformat_minor": 0
}
